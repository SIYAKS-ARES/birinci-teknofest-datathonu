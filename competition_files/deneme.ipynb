{
 "cells": [
  {
   "cell_type": "code",
   "execution_count": 1,
   "id": "72024fea",
   "metadata": {},
   "outputs": [
    {
     "name": "stdout",
     "output_type": "stream",
     "text": [
      "Train shape: (150826, 15)\n",
      "Test shape: (37707, 14)\n",
      "Train columns: ['id', 'brand', 'model', 'year', 'km', 'fuel_type', 'transmission', 'color_ext', 'color_int', 'accident', 'clean_title', 'price', 'horsepower', 'engine_liter', 'age']\n",
      "Test columns: ['id', 'brand', 'model', 'year', 'km', 'fuel_type', 'transmission', 'color_ext', 'color_int', 'accident', 'clean_title', 'horsepower', 'engine_liter', 'age']\n",
      "\n",
      "Eksik değer sayısı (train):\n",
      " id                  0\n",
      "brand               0\n",
      "model               0\n",
      "year                0\n",
      "km                  0\n",
      "fuel_type        4060\n",
      "transmission        0\n",
      "color_ext           0\n",
      "color_int           0\n",
      "accident         1967\n",
      "clean_title     17058\n",
      "price               0\n",
      "horsepower      26575\n",
      "engine_liter    11343\n",
      "age                 0\n",
      "dtype: int64\n",
      "\n",
      "Eksik değer sayısı (test):\n",
      " id                 0\n",
      "brand              0\n",
      "model              0\n",
      "year               0\n",
      "km                 0\n",
      "fuel_type       1023\n",
      "transmission       0\n",
      "color_ext          0\n",
      "color_int          0\n",
      "accident         485\n",
      "clean_title     4361\n",
      "horsepower      6684\n",
      "engine_liter    2871\n",
      "age                0\n",
      "dtype: int64\n"
     ]
    }
   ],
   "source": [
    "import pandas as pd\n",
    "\n",
    "# Verileri yükle\n",
    "train = pd.read_csv(\"train_new.csv\")\n",
    "test = pd.read_csv(\"test_new.csv\")\n",
    "\n",
    "# İlk bakış\n",
    "print(\"Train shape:\", train.shape)\n",
    "print(\"Test shape:\", test.shape)\n",
    "print(\"Train columns:\", train.columns.tolist())\n",
    "print(\"Test columns:\", test.columns.tolist())\n",
    "\n",
    "# Eksik veri analizi\n",
    "print(\"\\nEksik değer sayısı (train):\\n\", train.isnull().sum())\n",
    "print(\"\\nEksik değer sayısı (test):\\n\", test.isnull().sum())\n"
   ]
  },
  {
   "cell_type": "code",
   "execution_count": 2,
   "id": "ba7d9c6c",
   "metadata": {},
   "outputs": [],
   "source": [
    "import pandas as pd\n",
    "\n",
    "# Verileri oku\n",
    "train = pd.read_csv(\"train_new.csv\")\n",
    "test = pd.read_csv(\"test_new.csv\")\n",
    "\n",
    "# Price sütununu geçici olarak ayır\n",
    "train_price = train[\"price\"]\n",
    "\n",
    "# 'price' sütunu olmadan birleştir\n",
    "combined = pd.concat([train.drop(columns=[\"price\"]), test], axis=0).reset_index(drop=True)\n",
    "\n",
    "# 🔧 Sayısal sütunlardaki eksik değerleri doldur\n",
    "for col in [\"horsepower\", \"engine_liter\"]:\n",
    "    mean_value = combined[col].mean()\n",
    "    combined[col] = combined[col].fillna(mean_value)\n",
    "\n",
    "# 🔧 Kategorik sütunlardaki eksik değerleri doldur\n",
    "for col in [\"fuel_type\", \"transmission\", \"color_int\", \"accident\", \"clean_title\"]:\n",
    "    combined[col] = combined[col].fillna(\"Unknown\")\n",
    "\n",
    "# 💡 Not: Burada 'accident' ve 'clean_title' kategorik olarak sayıldıkları için \"Unknown\" veriyoruz.\n",
    "\n",
    "# 🔁 Verileri tekrar ayır\n",
    "train_cleaned = combined.iloc[:len(train)].copy()\n",
    "test_cleaned = combined.iloc[len(train):].copy()\n",
    "\n",
    "# 'price' sütununu geri ekle\n",
    "train_cleaned.loc[:, \"price\"] = train_price\n"
   ]
  },
  {
   "cell_type": "code",
   "execution_count": 3,
   "id": "27477465",
   "metadata": {},
   "outputs": [
    {
     "name": "stdout",
     "output_type": "stream",
     "text": [
      "horsepower: eksikler ortalama (343.26) ile dolduruldu.\n",
      "engine_liter: eksikler ortalama (3.81) ile dolduruldu.\n"
     ]
    }
   ],
   "source": [
    "# Sayısal sütunları ortalama ile doldur\n",
    "numeric_cols = [\"horsepower\", \"engine_liter\"]\n",
    "for col in numeric_cols:\n",
    "    mean_value = combined[col].mean()\n",
    "    combined[col] = combined[col].fillna(mean_value)\n",
    "    print(f\"{col}: eksikler ortalama ({mean_value:.2f}) ile dolduruldu.\")\n"
   ]
  },
  {
   "cell_type": "code",
   "execution_count": 4,
   "id": "642fc254",
   "metadata": {},
   "outputs": [
    {
     "name": "stdout",
     "output_type": "stream",
     "text": [
      "fuel_type: eksikler 'Unknown' ile dolduruldu.\n",
      "transmission: eksikler 'Unknown' ile dolduruldu.\n",
      "color_int: eksikler 'Unknown' ile dolduruldu.\n",
      "clean_title: eksikler 'Unknown' ile dolduruldu.\n"
     ]
    }
   ],
   "source": [
    "categorical_cols = [\"fuel_type\", \"transmission\", \"color_int\", \"clean_title\"]\n",
    "for col in categorical_cols:\n",
    "    combined[col] = combined[col].fillna(\"Unknown\")\n",
    "    print(f\"{col}: eksikler 'Unknown' ile dolduruldu.\")\n"
   ]
  },
  {
   "cell_type": "code",
   "execution_count": 5,
   "id": "88812591",
   "metadata": {},
   "outputs": [
    {
     "name": "stdout",
     "output_type": "stream",
     "text": [
      "\n",
      "Veri tipleri kontrolü:\n",
      " id                int64\n",
      "brand            object\n",
      "model            object\n",
      "year              int64\n",
      "km                int64\n",
      "fuel_type        object\n",
      "transmission     object\n",
      "color_ext        object\n",
      "color_int        object\n",
      "accident         object\n",
      "clean_title      object\n",
      "horsepower      float64\n",
      "engine_liter    float64\n",
      "age               int64\n",
      "dtype: object\n"
     ]
    }
   ],
   "source": [
    "print(\"\\nVeri tipleri kontrolü:\\n\", combined.dtypes)\n"
   ]
  },
  {
   "cell_type": "code",
   "execution_count": 6,
   "id": "86b6ef35",
   "metadata": {},
   "outputs": [],
   "source": [
    "# Satır sayısıyla tekrar ayır\n",
    "train_cleaned = combined.iloc[:len(train)].copy()\n",
    "test_cleaned = combined.iloc[len(train):].copy()\n",
    "\n",
    "# 'price' sütununu tekrar ekle\n",
    "train_cleaned[\"price\"] = train[\"price\"]\n"
   ]
  },
  {
   "cell_type": "code",
   "execution_count": 7,
   "id": "8e0a6b8b",
   "metadata": {},
   "outputs": [
    {
     "name": "stdout",
     "output_type": "stream",
     "text": [
      "\n",
      "Train Cleaned eksik değer kontrolü:\n",
      " id              0\n",
      "brand           0\n",
      "model           0\n",
      "year            0\n",
      "km              0\n",
      "fuel_type       0\n",
      "transmission    0\n",
      "color_ext       0\n",
      "color_int       0\n",
      "accident        0\n",
      "clean_title     0\n",
      "horsepower      0\n",
      "engine_liter    0\n",
      "age             0\n",
      "price           0\n",
      "dtype: int64\n",
      "\n",
      "Test Cleaned eksik değer kontrolü:\n",
      " id              0\n",
      "brand           0\n",
      "model           0\n",
      "year            0\n",
      "km              0\n",
      "fuel_type       0\n",
      "transmission    0\n",
      "color_ext       0\n",
      "color_int       0\n",
      "accident        0\n",
      "clean_title     0\n",
      "horsepower      0\n",
      "engine_liter    0\n",
      "age             0\n",
      "dtype: int64\n"
     ]
    }
   ],
   "source": [
    "print(\"\\nTrain Cleaned eksik değer kontrolü:\\n\", train_cleaned.isnull().sum())\n",
    "print(\"\\nTest Cleaned eksik değer kontrolü:\\n\", test_cleaned.isnull().sum())\n"
   ]
  },
  {
   "cell_type": "code",
   "execution_count": 8,
   "id": "aff9820a",
   "metadata": {},
   "outputs": [
    {
     "name": "stdout",
     "output_type": "stream",
     "text": [
      "\n",
      "Temizlenmiş veriler kaydedildi: train_cleaned.csv ve test_cleaned.csv\n",
      "\n",
      "İşlem tamamlandı. Veriler temizlendi ve kaydedildi.\n"
     ]
    }
   ],
   "source": [
    "train_cleaned.to_csv(\"train_cleaned.csv\", index=False)\n",
    "test_cleaned.to_csv(\"test_cleaned.csv\", index=False)\n",
    "print(\"\\nTemizlenmiş veriler kaydedildi: train_cleaned.csv ve test_cleaned.csv\")\n",
    "print(\"\\nİşlem tamamlandı. Veriler temizlendi ve kaydedildi.\")"
   ]
  },
  {
   "cell_type": "code",
   "execution_count": 9,
   "id": "7a038a27",
   "metadata": {},
   "outputs": [
    {
     "name": "stdout",
     "output_type": "stream",
     "text": [
      "count    1.508260e+05\n",
      "mean     4.389079e+04\n",
      "std      7.984588e+04\n",
      "min      2.000000e+03\n",
      "25%      1.700000e+04\n",
      "50%      3.079800e+04\n",
      "75%      4.989500e+04\n",
      "max      2.954083e+06\n",
      "Name: price, dtype: float64\n",
      "count    150826.000000\n",
      "mean        343.252052\n",
      "std         104.278503\n",
      "min          70.000000\n",
      "25%         280.000000\n",
      "50%         343.263856\n",
      "75%         395.000000\n",
      "max        1020.000000\n",
      "Name: horsepower, dtype: float64\n"
     ]
    }
   ],
   "source": [
    "print(train_cleaned[\"price\"].describe())\n",
    "print(train_cleaned[\"horsepower\"].describe())\n"
   ]
  },
  {
   "cell_type": "code",
   "execution_count": 10,
   "id": "95acde49",
   "metadata": {},
   "outputs": [
    {
     "name": "stdout",
     "output_type": "stream",
     "text": [
      "fuel_type\n",
      "Gasoline          132832\n",
      "Hybrid              5437\n",
      "E85 Flex Fuel       4328\n",
      "Unknown             4060\n",
      "Diesel              3101\n",
      "–                    625\n",
      "Plug-In Hybrid       433\n",
      "not supported         10\n",
      "Name: count, dtype: int64\n"
     ]
    }
   ],
   "source": [
    "print(train_cleaned[\"fuel_type\"].value_counts())\n"
   ]
  },
  {
   "cell_type": "code",
   "execution_count": 11,
   "id": "da451d16",
   "metadata": {},
   "outputs": [],
   "source": [
    "# Ortalama değeri yeniden hesaplayalım (emin olmak için)\n",
    "hp_mean = train_cleaned[\"horsepower\"].mean()\n",
    "el_mean = train_cleaned[\"engine_liter\"].mean()\n",
    "\n",
    "# Eksik olanları işaretle\n",
    "train_cleaned[\"horsepower_missing\"] = (train_cleaned[\"horsepower\"] == hp_mean).astype(int)\n",
    "test_cleaned[\"horsepower_missing\"] = (test_cleaned[\"horsepower\"] == hp_mean).astype(int)\n",
    "\n",
    "train_cleaned[\"engine_liter_missing\"] = (train_cleaned[\"engine_liter\"] == el_mean).astype(int)\n",
    "test_cleaned[\"engine_liter_missing\"] = (test_cleaned[\"engine_liter\"] == el_mean).astype(int)\n"
   ]
  },
  {
   "cell_type": "code",
   "execution_count": 12,
   "id": "cbafb6ca",
   "metadata": {},
   "outputs": [
    {
     "name": "stdout",
     "output_type": "stream",
     "text": [
      "   horsepower_missing  engine_liter_missing\n",
      "0                   0                     0\n",
      "1                   0                     0\n",
      "2                   0                     0\n",
      "3                   0                     0\n",
      "4                   0                     0\n"
     ]
    }
   ],
   "source": [
    "print(train_cleaned[[\"horsepower_missing\", \"engine_liter_missing\"]].head())\n"
   ]
  },
  {
   "cell_type": "code",
   "execution_count": 13,
   "id": "162abf99",
   "metadata": {},
   "outputs": [
    {
     "name": "stdout",
     "output_type": "stream",
     "text": [
      "Yeni flag'lerle birlikte temizlenmiş veriler kaydedildi.\n"
     ]
    }
   ],
   "source": [
    "train_cleaned.to_csv(\"train_cleaned_v2.csv\", index=False)\n",
    "test_cleaned.to_csv(\"test_cleaned_v2.csv\", index=False)\n",
    "print(\"Yeni flag'lerle birlikte temizlenmiş veriler kaydedildi.\")\n"
   ]
  },
  {
   "cell_type": "code",
   "execution_count": 3,
   "id": "869e49d5",
   "metadata": {},
   "outputs": [],
   "source": [
    "import pandas as pd\n",
    "\n",
    "solution = pd.read_csv(\"solution.csv\")\n",
    "\n",
    "# Sıralama ve kullanım şekline göre Usage sütunu ekle\n",
    "# Örnek olarak %50'si public, %50'si private diyelim:\n",
    "usage = [\"Public\"] * (len(solution) // 2) + [\"Private\"] * (len(solution) - len(solution) // 2)\n",
    "\n",
    "solution.insert(0, \"Usage\", usage)\n",
    "\n",
    "solution.to_csv(\"solution_with_usage.csv\", index=False)"
   ]
  },
  {
   "cell_type": "code",
   "execution_count": 4,
   "id": "b6672512",
   "metadata": {},
   "outputs": [
    {
     "name": "stdout",
     "output_type": "stream",
     "text": [
      "Çözüm dosyasına Usage sütunu eklendi ve kaydedildi: solution_with_usage.csv\n"
     ]
    }
   ],
   "source": [
    "solution.to_csv(\"solution_with_usage.csv\", index=False)\n",
    "print(\"Çözüm dosyasına Usage sütunu eklendi ve kaydedildi: solution_with_usage.csv\")"
   ]
  },
  {
   "cell_type": "code",
   "execution_count": 2,
   "id": "2dab4097",
   "metadata": {},
   "outputs": [],
   "source": [
    "import pandas as pd\n",
    "\n",
    "# Orijinal çözüm dosyasını oku\n",
    "solution = pd.read_csv(\"solution_with_usage.csv\")\n",
    "\n",
    "# Örnek olarak tüm satırları Public yap\n",
    "solution[\"Usage\"] = [\"Public\"] * (len(solution) // 2) + [\"Private\"] * (len(solution) - len(solution) // 2)\n",
    "\n",
    "# Kolon sırasını düzenle: id, Usage, price\n",
    "solution = solution[[\"id\", \"Usage\", \"price\"]]\n",
    "\n",
    "# Yeni dosyayı kaydet\n",
    "solution.to_csv(\"solution_corrected.csv\", index=False)\n"
   ]
  },
  {
   "cell_type": "code",
   "execution_count": 2,
   "id": "f49f1e8f",
   "metadata": {},
   "outputs": [],
   "source": [
    "import pandas as pd\n",
    "\n",
    "# Var olan çözüm dosyasını yükle\n",
    "solution = pd.read_csv(\"solution_corrected.csv\")\n",
    "\n",
    "# Satır sayısını al\n",
    "total_rows = len(solution)\n",
    "public_count = int(total_rows * 0.2)\n",
    "private_count = total_rows - public_count\n",
    "\n",
    "# Usage kolonunu oluştur\n",
    "solution[\"Usage\"] = [\"Public\"] * public_count + [\"Private\"] * private_count\n",
    "\n",
    "# Sütun sırasını yeniden düzenle\n",
    "solution = solution[[\"id\", \"Usage\", \"price\"]]\n",
    "\n",
    "# Yeni dosyayı kaydet\n",
    "solution.to_csv(\"solution_20_80.csv\", index=False)"
   ]
  }
 ],
 "metadata": {
  "kernelspec": {
   "display_name": "datathon",
   "language": "python",
   "name": "python3"
  },
  "language_info": {
   "codemirror_mode": {
    "name": "ipython",
    "version": 3
   },
   "file_extension": ".py",
   "mimetype": "text/x-python",
   "name": "python",
   "nbconvert_exporter": "python",
   "pygments_lexer": "ipython3",
   "version": "3.13.2"
  }
 },
 "nbformat": 4,
 "nbformat_minor": 5
}
