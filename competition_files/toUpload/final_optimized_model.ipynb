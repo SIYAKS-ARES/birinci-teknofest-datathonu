{
 "cells": [
  {
   "cell_type": "markdown",
   "metadata": {},
   "source": [
    "# Car Price Prediction - Final Optimized Model\n",
    "\n",
    "Bu notebook, araç fiyat tahmini için optimize edilmiş bir LightGBM modeli içerir."
   ]
  },
  {
   "cell_type": "code",
   "execution_count": 2,
   "metadata": {},
   "outputs": [],
   "source": [
    "import pandas as pd\n",
    "import numpy as np\n",
    "from sklearn.model_selection import train_test_split, KFold\n",
    "from sklearn.preprocessing import LabelEncoder\n",
    "from sklearn.metrics import mean_squared_error\n",
    "from sklearn.feature_selection import SelectKBest, f_regression\n",
    "import lightgbm as lgb\n",
    "import optuna\n",
    "import warnings\n",
    "warnings.filterwarnings('ignore')"
   ]
  },
  {
   "cell_type": "markdown",
   "metadata": {},
   "source": [
    "## Veri Yükleme ve Hazırlama"
   ]
  },
  {
   "cell_type": "code",
   "execution_count": 3,
   "metadata": {},
   "outputs": [
    {
     "name": "stdout",
     "output_type": "stream",
     "text": [
      "Loading and preparing data...\n",
      "Train shape: (150826, 17)\n",
      "Test shape: (37707, 16)\n"
     ]
    }
   ],
   "source": [
    "# Load and prepare data\n",
    "print(\"Loading and preparing data...\")\n",
    "train = pd.read_csv('train.csv')\n",
    "test = pd.read_csv('test.csv')\n",
    "sample_submission = pd.read_csv('sample_submission.csv')\n",
    "\n",
    "print(f\"Train shape: {train.shape}\")\n",
    "print(f\"Test shape: {test.shape}\")"
   ]
  },
  {
   "cell_type": "markdown",
   "metadata": {},
   "source": [
    "## Feature Engineering Fonksiyonu"
   ]
  },
  {
   "cell_type": "code",
   "execution_count": 4,
   "metadata": {},
   "outputs": [],
   "source": [
    "# Enhanced Feature Engineering\n",
    "def feature_engineering(df):\n",
    "    df = df.copy()\n",
    "    \n",
    "    # Basic engineered features\n",
    "    df['power_to_weight'] = df['horsepower'] / (df['km'] / 1000 + 1)\n",
    "    df['age_km_interaction'] = df['age'] * df['km'] / 1000\n",
    "    df['engine_power_ratio'] = df['horsepower'] / df['engine_liter']\n",
    "    df['luxury_brand'] = df['brand'].isin(['Mercedes-Benz', 'BMW', 'Audi', 'Lexus', 'Porsche', 'Jaguar', 'Bentley', 'Rolls-Royce', 'Maserati']).astype(int)\n",
    "    df['sports_car'] = df['model'].str.contains('M3|M4|M5|AMG|RS|GT|Turbo|Sport|Performance', case=False, na=False).astype(int)\n",
    "    \n",
    "    # Advanced features\n",
    "    df['year_squared'] = df['year'] ** 2\n",
    "    df['km_log'] = np.log1p(df['km'])\n",
    "    df['hp_per_year'] = df['horsepower'] / (2024 - df['year'] + 1)\n",
    "    df['premium_features'] = (df['luxury_brand'] + df['sports_car']).clip(0, 1)\n",
    "    df['age_hp_ratio'] = df['age'] / (df['horsepower'] + 1)\n",
    "    df['km_per_year'] = df['km'] / (df['age'] + 1)\n",
    "    df['engine_efficiency'] = df['horsepower'] / (df['engine_liter'] * df['age'] + 1)\n",
    "    \n",
    "    # Price-related features based on domain knowledge\n",
    "    df['depreciation_factor'] = np.exp(-0.1 * df['age'])  # Exponential depreciation\n",
    "    df['mileage_penalty'] = np.exp(-df['km'] / 100000)  # Mileage penalty\n",
    "    df['luxury_premium'] = df['luxury_brand'] * df['horsepower'] / 100\n",
    "    \n",
    "    # Categorical binning\n",
    "    df['age_group'] = pd.cut(df['age'], bins=[0, 3, 7, 15, 100], labels=[0, 1, 2, 3])\n",
    "    df['km_group'] = pd.cut(df['km'], bins=[0, 30000, 80000, 150000, 500000], labels=[0, 1, 2, 3])\n",
    "    df['hp_group'] = pd.cut(df['horsepower'], bins=[0, 200, 300, 450, 2000], labels=[0, 1, 2, 3])\n",
    "    \n",
    "    return df"
   ]
  },
  {
   "cell_type": "markdown",
   "metadata": {},
   "source": [
    "## Feature Hazırlama Fonksiyonu"
   ]
  },
  {
   "cell_type": "code",
   "execution_count": 5,
   "metadata": {},
   "outputs": [],
   "source": [
    "# Prepare features with enhanced encoding\n",
    "def prepare_features(train_df, test_df):\n",
    "    categorical_cols = ['brand', 'fuel_type', 'transmission', 'accident', 'clean_title', 'color_ext', 'color_int']\n",
    "    \n",
    "    # Target encoding for high-cardinality categorical variables\n",
    "    target_encoded_cols = ['brand', 'color_ext', 'color_int']\n",
    "    \n",
    "    for col in target_encoded_cols:\n",
    "        # Calculate mean target for each category\n",
    "        mean_target = train_df.groupby(col)['price'].mean()\n",
    "        # Apply smoothing to avoid overfitting\n",
    "        global_mean = train_df['price'].mean()\n",
    "        smoothing = 100\n",
    "        counts = train_df.groupby(col).size()\n",
    "        smoothed_means = (counts * mean_target + smoothing * global_mean) / (counts + smoothing)\n",
    "        \n",
    "        # Apply to train and test\n",
    "        train_df[col + '_target_encoded'] = train_df[col].map(smoothed_means).fillna(global_mean)\n",
    "        test_df[col + '_target_encoded'] = test_df[col].map(smoothed_means).fillna(global_mean)\n",
    "    \n",
    "    # Label encoding for other categorical variables\n",
    "    label_encoded_cols = ['fuel_type', 'transmission', 'accident', 'clean_title']\n",
    "    for col in label_encoded_cols:\n",
    "        le = LabelEncoder()\n",
    "        combined_values = pd.concat([train_df[col], test_df[col]]).astype(str)\n",
    "        le.fit(combined_values)\n",
    "        train_df[col + '_encoded'] = le.transform(train_df[col].astype(str))\n",
    "        test_df[col + '_encoded'] = le.transform(test_df[col].astype(str))\n",
    "    \n",
    "    # Select all features\n",
    "    feature_cols = (['year', 'km', 'horsepower', 'engine_liter', 'age', \n",
    "                    'horsepower_missing', 'engine_liter_missing',\n",
    "                    'power_to_weight', 'age_km_interaction', 'engine_power_ratio',\n",
    "                    'luxury_brand', 'sports_car', 'year_squared', 'km_log', \n",
    "                    'hp_per_year', 'premium_features', 'age_hp_ratio', 'km_per_year',\n",
    "                    'engine_efficiency', 'depreciation_factor', 'mileage_penalty', 'luxury_premium',\n",
    "                    'age_group', 'km_group', 'hp_group'] + \n",
    "                   [col + '_target_encoded' for col in target_encoded_cols] +\n",
    "                   [col + '_encoded' for col in label_encoded_cols])\n",
    "    \n",
    "    X_train = train_df[feature_cols]\n",
    "    y_train = train_df['price']\n",
    "    X_test = test_df[feature_cols]\n",
    "    \n",
    "    return X_train, y_train, X_test, feature_cols"
   ]
  },
  {
   "cell_type": "markdown",
   "metadata": {},
   "source": [
    "## Feature Engineering Uygulama"
   ]
  },
  {
   "cell_type": "code",
   "execution_count": 6,
   "metadata": {},
   "outputs": [
    {
     "name": "stdout",
     "output_type": "stream",
     "text": [
      "Data prepared. Training shape: (150826, 32)\n"
     ]
    }
   ],
   "source": [
    "train_fe = feature_engineering(train)\n",
    "test_fe = feature_engineering(test)\n",
    "X_train, y_train, X_test, feature_cols = prepare_features(train_fe, test_fe)\n",
    "\n",
    "print(f\"Data prepared. Training shape: {X_train.shape}\")"
   ]
  },
  {
   "cell_type": "markdown",
   "metadata": {},
   "source": [
    "## Feature Selection"
   ]
  },
  {
   "cell_type": "code",
   "execution_count": 7,
   "metadata": {},
   "outputs": [
    {
     "name": "stdout",
     "output_type": "stream",
     "text": [
      "Performing feature selection...\n",
      "Selected 25 features\n"
     ]
    }
   ],
   "source": [
    "# Feature selection\n",
    "print(\"Performing feature selection...\")\n",
    "selector = SelectKBest(score_func=f_regression, k=25)  # Select top 25 features\n",
    "X_train_selected = selector.fit_transform(X_train, y_train)\n",
    "X_test_selected = selector.transform(X_test)\n",
    "\n",
    "selected_features = [feature_cols[i] for i in selector.get_support(indices=True)]\n",
    "print(f\"Selected {len(selected_features)} features\")\n",
    "\n",
    "# Convert back to DataFrame for easier handling\n",
    "X_train_selected = pd.DataFrame(X_train_selected, columns=selected_features)\n",
    "X_test_selected = pd.DataFrame(X_test_selected, columns=selected_features)"
   ]
  },
  {
   "cell_type": "markdown",
   "metadata": {},
   "source": [
    "## Hyperparameter Optimization"
   ]
  },
  {
   "cell_type": "code",
   "execution_count": 8,
   "metadata": {},
   "outputs": [],
   "source": [
    "# Advanced LightGBM optimization\n",
    "def objective(trial):\n",
    "    params = {\n",
    "        'objective': 'regression',\n",
    "        'metric': 'rmse',\n",
    "        'boosting_type': 'gbdt',\n",
    "        'num_leaves': trial.suggest_int('num_leaves', 50, 500),\n",
    "        'learning_rate': trial.suggest_float('learning_rate', 0.01, 0.2),\n",
    "        'feature_fraction': trial.suggest_float('feature_fraction', 0.6, 1.0),\n",
    "        'bagging_fraction': trial.suggest_float('bagging_fraction', 0.6, 1.0),\n",
    "        'bagging_freq': trial.suggest_int('bagging_freq', 1, 10),\n",
    "        'min_child_samples': trial.suggest_int('min_child_samples', 10, 200),\n",
    "        'reg_alpha': trial.suggest_float('reg_alpha', 0, 20),\n",
    "        'reg_lambda': trial.suggest_float('reg_lambda', 0, 20),\n",
    "        'max_depth': trial.suggest_int('max_depth', 3, 15),\n",
    "        'min_split_gain': trial.suggest_float('min_split_gain', 0, 10),\n",
    "        'random_state': 42,\n",
    "        'verbosity': -1,\n",
    "        'force_col_wise': True\n",
    "    }\n",
    "    \n",
    "    # 3-fold CV for faster optimization\n",
    "    kf = KFold(n_splits=3, shuffle=True, random_state=42)\n",
    "    cv_scores = []\n",
    "    \n",
    "    for train_idx, val_idx in kf.split(X_train_selected):\n",
    "        X_tr, X_val = X_train_selected.iloc[train_idx], X_train_selected.iloc[val_idx]\n",
    "        y_tr, y_val = y_train.iloc[train_idx], y_train.iloc[val_idx]\n",
    "        \n",
    "        train_data = lgb.Dataset(X_tr, label=y_tr)\n",
    "        val_data = lgb.Dataset(X_val, label=y_val, reference=train_data)\n",
    "        \n",
    "        model = lgb.train(\n",
    "            params,\n",
    "            train_data,\n",
    "            valid_sets=[val_data],\n",
    "            num_boost_round=1500,\n",
    "            callbacks=[lgb.early_stopping(100), lgb.log_evaluation(0)]\n",
    "        )\n",
    "        \n",
    "        y_pred = model.predict(X_val, num_iteration=model.best_iteration)\n",
    "        rmse = np.sqrt(mean_squared_error(y_val, y_pred))\n",
    "        cv_scores.append(rmse)\n",
    "    \n",
    "    return np.mean(cv_scores)"
   ]
  },
  {
   "cell_type": "code",
   "execution_count": 9,
   "metadata": {},
   "outputs": [
    {
     "name": "stderr",
     "output_type": "stream",
     "text": [
      "[I 2025-05-31 11:14:51,907] A new study created in memory with name: no-name-2af6f59f-7a0a-4900-b31a-cc8c386d781c\n"
     ]
    },
    {
     "name": "stdout",
     "output_type": "stream",
     "text": [
      "\n",
      "Starting advanced hyperparameter optimization...\n",
      "Training until validation scores don't improve for 100 rounds\n",
      "Early stopping, best iteration is:\n",
      "[133]\tvalid_0's rmse: 74948.6\n",
      "Training until validation scores don't improve for 100 rounds\n",
      "Early stopping, best iteration is:\n",
      "[103]\tvalid_0's rmse: 73886.5\n",
      "Training until validation scores don't improve for 100 rounds\n"
     ]
    },
    {
     "name": "stderr",
     "output_type": "stream",
     "text": [
      "[I 2025-05-31 11:14:53,462] Trial 0 finished with value: 73982.63898284589 and parameters: {'num_leaves': 472, 'learning_rate': 0.07195650266184664, 'feature_fraction': 0.9071233927475909, 'bagging_fraction': 0.8456506145047082, 'bagging_freq': 1, 'min_child_samples': 32, 'reg_alpha': 8.22249127721598, 'reg_lambda': 19.003893419403045, 'max_depth': 3, 'min_split_gain': 6.89292511013125}. Best is trial 0 with value: 73982.63898284589.\n"
     ]
    },
    {
     "name": "stdout",
     "output_type": "stream",
     "text": [
      "Early stopping, best iteration is:\n",
      "[96]\tvalid_0's rmse: 73112.8\n",
      "Training until validation scores don't improve for 100 rounds\n",
      "Early stopping, best iteration is:\n",
      "[22]\tvalid_0's rmse: 75400.5\n",
      "Training until validation scores don't improve for 100 rounds\n",
      "Early stopping, best iteration is:\n",
      "[24]\tvalid_0's rmse: 74162.4\n",
      "Training until validation scores don't improve for 100 rounds\n"
     ]
    },
    {
     "name": "stderr",
     "output_type": "stream",
     "text": [
      "[I 2025-05-31 11:14:57,545] Trial 1 finished with value: 74401.81537440495 and parameters: {'num_leaves': 462, 'learning_rate': 0.10389840214239383, 'feature_fraction': 0.7133115491714345, 'bagging_fraction': 0.8293290830398392, 'bagging_freq': 9, 'min_child_samples': 12, 'reg_alpha': 3.049273136658077, 'reg_lambda': 9.198486222125714, 'max_depth': 12, 'min_split_gain': 2.1999007334966256}. Best is trial 0 with value: 73982.63898284589.\n"
     ]
    },
    {
     "name": "stdout",
     "output_type": "stream",
     "text": [
      "Early stopping, best iteration is:\n",
      "[20]\tvalid_0's rmse: 73642.5\n",
      "Training until validation scores don't improve for 100 rounds\n",
      "Early stopping, best iteration is:\n",
      "[49]\tvalid_0's rmse: 74958.6\n",
      "Training until validation scores don't improve for 100 rounds\n",
      "Early stopping, best iteration is:\n",
      "[55]\tvalid_0's rmse: 73816\n",
      "Training until validation scores don't improve for 100 rounds\n"
     ]
    },
    {
     "name": "stderr",
     "output_type": "stream",
     "text": [
      "[I 2025-05-31 11:15:01,229] Trial 2 finished with value: 73993.62090288535 and parameters: {'num_leaves': 275, 'learning_rate': 0.054888697911155165, 'feature_fraction': 0.7906845876957481, 'bagging_fraction': 0.8649822242054825, 'bagging_freq': 5, 'min_child_samples': 56, 'reg_alpha': 13.693594420587791, 'reg_lambda': 18.448883164977968, 'max_depth': 10, 'min_split_gain': 5.503911875492335}. Best is trial 0 with value: 73982.63898284589.\n"
     ]
    },
    {
     "name": "stdout",
     "output_type": "stream",
     "text": [
      "Early stopping, best iteration is:\n",
      "[58]\tvalid_0's rmse: 73206.2\n",
      "Training until validation scores don't improve for 100 rounds\n",
      "Early stopping, best iteration is:\n",
      "[200]\tvalid_0's rmse: 74882.2\n",
      "Training until validation scores don't improve for 100 rounds\n",
      "Early stopping, best iteration is:\n",
      "[138]\tvalid_0's rmse: 73878.2\n",
      "Training until validation scores don't improve for 100 rounds\n"
     ]
    },
    {
     "name": "stderr",
     "output_type": "stream",
     "text": [
      "[I 2025-05-31 11:15:04,769] Trial 3 finished with value: 73985.3880264276 and parameters: {'num_leaves': 232, 'learning_rate': 0.023749320447518533, 'feature_fraction': 0.7957910142715908, 'bagging_fraction': 0.6553182705174452, 'bagging_freq': 10, 'min_child_samples': 52, 'reg_alpha': 9.889869851557105, 'reg_lambda': 18.368945051378944, 'max_depth': 6, 'min_split_gain': 8.609157916333158}. Best is trial 0 with value: 73982.63898284589.\n"
     ]
    },
    {
     "name": "stdout",
     "output_type": "stream",
     "text": [
      "Early stopping, best iteration is:\n",
      "[217]\tvalid_0's rmse: 73195.7\n",
      "Training until validation scores don't improve for 100 rounds\n",
      "Early stopping, best iteration is:\n",
      "[16]\tvalid_0's rmse: 75077.7\n",
      "Training until validation scores don't improve for 100 rounds\n",
      "Early stopping, best iteration is:\n",
      "[13]\tvalid_0's rmse: 74029.1\n",
      "Training until validation scores don't improve for 100 rounds\n"
     ]
    },
    {
     "name": "stderr",
     "output_type": "stream",
     "text": [
      "[I 2025-05-31 11:15:07,232] Trial 4 finished with value: 74142.10025422186 and parameters: {'num_leaves': 180, 'learning_rate': 0.19967513308723459, 'feature_fraction': 0.9900966285364475, 'bagging_fraction': 0.6317806875953856, 'bagging_freq': 8, 'min_child_samples': 83, 'reg_alpha': 2.2278912050087563, 'reg_lambda': 17.92563067904345, 'max_depth': 11, 'min_split_gain': 8.808242246902257}. Best is trial 0 with value: 73982.63898284589.\n"
     ]
    },
    {
     "name": "stdout",
     "output_type": "stream",
     "text": [
      "Early stopping, best iteration is:\n",
      "[17]\tvalid_0's rmse: 73319.4\n",
      "Training until validation scores don't improve for 100 rounds\n",
      "Early stopping, best iteration is:\n",
      "[29]\tvalid_0's rmse: 74892.7\n",
      "Training until validation scores don't improve for 100 rounds\n",
      "Early stopping, best iteration is:\n",
      "[22]\tvalid_0's rmse: 73852.9\n",
      "Training until validation scores don't improve for 100 rounds\n"
     ]
    },
    {
     "name": "stderr",
     "output_type": "stream",
     "text": [
      "[I 2025-05-31 11:15:09,554] Trial 5 finished with value: 73963.27267500445 and parameters: {'num_leaves': 483, 'learning_rate': 0.12760732281340156, 'feature_fraction': 0.7628681425901845, 'bagging_fraction': 0.6705296893861287, 'bagging_freq': 7, 'min_child_samples': 197, 'reg_alpha': 5.436180183792687, 'reg_lambda': 2.6772948927678475, 'max_depth': 11, 'min_split_gain': 8.874619769400947}. Best is trial 5 with value: 73963.27267500445.\n"
     ]
    },
    {
     "name": "stdout",
     "output_type": "stream",
     "text": [
      "Early stopping, best iteration is:\n",
      "[25]\tvalid_0's rmse: 73144.2\n",
      "Training until validation scores don't improve for 100 rounds\n",
      "Early stopping, best iteration is:\n",
      "[29]\tvalid_0's rmse: 74836.2\n",
      "Training until validation scores don't improve for 100 rounds\n",
      "Early stopping, best iteration is:\n",
      "[29]\tvalid_0's rmse: 73808.4\n",
      "Training until validation scores don't improve for 100 rounds\n"
     ]
    },
    {
     "name": "stderr",
     "output_type": "stream",
     "text": [
      "[I 2025-05-31 11:15:10,930] Trial 6 finished with value: 73925.92098016286 and parameters: {'num_leaves': 123, 'learning_rate': 0.18421772957804158, 'feature_fraction': 0.8760434821320289, 'bagging_fraction': 0.6758979711604437, 'bagging_freq': 7, 'min_child_samples': 154, 'reg_alpha': 10.130976023061793, 'reg_lambda': 9.169038219449078, 'max_depth': 6, 'min_split_gain': 1.5692823888749874}. Best is trial 6 with value: 73925.92098016286.\n"
     ]
    },
    {
     "name": "stdout",
     "output_type": "stream",
     "text": [
      "Early stopping, best iteration is:\n",
      "[27]\tvalid_0's rmse: 73133.2\n",
      "Training until validation scores don't improve for 100 rounds\n",
      "Early stopping, best iteration is:\n",
      "[18]\tvalid_0's rmse: 75036.3\n",
      "Training until validation scores don't improve for 100 rounds\n",
      "Early stopping, best iteration is:\n",
      "[15]\tvalid_0's rmse: 73875.2\n",
      "Training until validation scores don't improve for 100 rounds\n"
     ]
    },
    {
     "name": "stderr",
     "output_type": "stream",
     "text": [
      "[I 2025-05-31 11:15:14,421] Trial 7 finished with value: 74068.2122934082 and parameters: {'num_leaves': 399, 'learning_rate': 0.18508851029971013, 'feature_fraction': 0.9067368819153918, 'bagging_fraction': 0.9482684452845243, 'bagging_freq': 3, 'min_child_samples': 137, 'reg_alpha': 10.90141141873395, 'reg_lambda': 16.795593594696065, 'max_depth': 15, 'min_split_gain': 0.7051412277177616}. Best is trial 6 with value: 73925.92098016286.\n"
     ]
    },
    {
     "name": "stdout",
     "output_type": "stream",
     "text": [
      "Early stopping, best iteration is:\n",
      "[15]\tvalid_0's rmse: 73293.2\n",
      "Training until validation scores don't improve for 100 rounds\n",
      "Early stopping, best iteration is:\n",
      "[28]\tvalid_0's rmse: 75055.2\n",
      "Training until validation scores don't improve for 100 rounds\n",
      "Early stopping, best iteration is:\n",
      "[28]\tvalid_0's rmse: 73865.5\n",
      "Training until validation scores don't improve for 100 rounds\n"
     ]
    },
    {
     "name": "stderr",
     "output_type": "stream",
     "text": [
      "[I 2025-05-31 11:15:17,237] Trial 8 finished with value: 74042.21803803135 and parameters: {'num_leaves': 141, 'learning_rate': 0.09114878889826919, 'feature_fraction': 0.7703468611019993, 'bagging_fraction': 0.7618652360150739, 'bagging_freq': 3, 'min_child_samples': 58, 'reg_alpha': 2.9933971232888745, 'reg_lambda': 1.9854609801376344, 'max_depth': 11, 'min_split_gain': 2.877627842235956}. Best is trial 6 with value: 73925.92098016286.\n"
     ]
    },
    {
     "name": "stdout",
     "output_type": "stream",
     "text": [
      "Early stopping, best iteration is:\n",
      "[31]\tvalid_0's rmse: 73205.9\n",
      "Training until validation scores don't improve for 100 rounds\n",
      "Early stopping, best iteration is:\n",
      "[14]\tvalid_0's rmse: 75292.5\n",
      "Training until validation scores don't improve for 100 rounds\n",
      "Early stopping, best iteration is:\n",
      "[14]\tvalid_0's rmse: 74070.3\n",
      "Training until validation scores don't improve for 100 rounds\n"
     ]
    },
    {
     "name": "stderr",
     "output_type": "stream",
     "text": [
      "[I 2025-05-31 11:15:19,583] Trial 9 finished with value: 74284.93690370732 and parameters: {'num_leaves': 498, 'learning_rate': 0.18661718665798682, 'feature_fraction': 0.7646574256817723, 'bagging_fraction': 0.6258600237658173, 'bagging_freq': 1, 'min_child_samples': 19, 'reg_alpha': 12.094174958582702, 'reg_lambda': 11.952152262561293, 'max_depth': 10, 'min_split_gain': 4.538507592555727}. Best is trial 6 with value: 73925.92098016286.\n"
     ]
    },
    {
     "name": "stdout",
     "output_type": "stream",
     "text": [
      "Early stopping, best iteration is:\n",
      "[12]\tvalid_0's rmse: 73492\n",
      "Training until validation scores don't improve for 100 rounds\n",
      "Early stopping, best iteration is:\n",
      "[43]\tvalid_0's rmse: 74906.8\n",
      "Training until validation scores don't improve for 100 rounds\n",
      "Early stopping, best iteration is:\n",
      "[42]\tvalid_0's rmse: 73792.5\n",
      "Training until validation scores don't improve for 100 rounds\n"
     ]
    },
    {
     "name": "stderr",
     "output_type": "stream",
     "text": [
      "[I 2025-05-31 11:15:21,227] Trial 10 finished with value: 73930.5054158239 and parameters: {'num_leaves': 60, 'learning_rate': 0.14294806263186638, 'feature_fraction': 0.6082334848831379, 'bagging_fraction': 0.7447153768745411, 'bagging_freq': 6, 'min_child_samples': 151, 'reg_alpha': 17.0063947935069, 'reg_lambda': 7.069821741030037, 'max_depth': 6, 'min_split_gain': 0.5717665962888772}. Best is trial 6 with value: 73925.92098016286.\n"
     ]
    },
    {
     "name": "stdout",
     "output_type": "stream",
     "text": [
      "Early stopping, best iteration is:\n",
      "[50]\tvalid_0's rmse: 73092.2\n",
      "Training until validation scores don't improve for 100 rounds\n",
      "Early stopping, best iteration is:\n",
      "[31]\tvalid_0's rmse: 74897.8\n",
      "Training until validation scores don't improve for 100 rounds\n",
      "Early stopping, best iteration is:\n",
      "[23]\tvalid_0's rmse: 73836.9\n",
      "Training until validation scores don't improve for 100 rounds\n"
     ]
    },
    {
     "name": "stderr",
     "output_type": "stream",
     "text": [
      "[I 2025-05-31 11:15:22,911] Trial 11 finished with value: 73937.92685245517 and parameters: {'num_leaves': 50, 'learning_rate': 0.14725806478833586, 'feature_fraction': 0.6136334309113546, 'bagging_fraction': 0.7369264650726675, 'bagging_freq': 6, 'min_child_samples': 151, 'reg_alpha': 19.375884327612233, 'reg_lambda': 7.234963782799503, 'max_depth': 6, 'min_split_gain': 0.1488982237328924}. Best is trial 6 with value: 73925.92098016286.\n"
     ]
    },
    {
     "name": "stdout",
     "output_type": "stream",
     "text": [
      "Early stopping, best iteration is:\n",
      "[60]\tvalid_0's rmse: 73079.1\n",
      "Training until validation scores don't improve for 100 rounds\n",
      "Early stopping, best iteration is:\n",
      "[35]\tvalid_0's rmse: 74920.8\n",
      "Training until validation scores don't improve for 100 rounds\n",
      "Early stopping, best iteration is:\n",
      "[29]\tvalid_0's rmse: 73776\n",
      "Training until validation scores don't improve for 100 rounds\n"
     ]
    },
    {
     "name": "stderr",
     "output_type": "stream",
     "text": [
      "[I 2025-05-31 11:15:24,624] Trial 12 finished with value: 73917.23853824621 and parameters: {'num_leaves': 73, 'learning_rate': 0.15048420322581527, 'feature_fraction': 0.6555447566224061, 'bagging_fraction': 0.7168948198997727, 'bagging_freq': 5, 'min_child_samples': 154, 'reg_alpha': 16.482476158225158, 'reg_lambda': 6.145700246258347, 'max_depth': 7, 'min_split_gain': 2.05294457039299}. Best is trial 12 with value: 73917.23853824621.\n"
     ]
    },
    {
     "name": "stdout",
     "output_type": "stream",
     "text": [
      "Early stopping, best iteration is:\n",
      "[35]\tvalid_0's rmse: 73054.9\n",
      "Training until validation scores don't improve for 100 rounds\n",
      "Early stopping, best iteration is:\n",
      "[92]\tvalid_0's rmse: 74930.7\n",
      "Training until validation scores don't improve for 100 rounds\n",
      "Early stopping, best iteration is:\n",
      "[69]\tvalid_0's rmse: 73824.6\n",
      "Training until validation scores don't improve for 100 rounds\n"
     ]
    },
    {
     "name": "stderr",
     "output_type": "stream",
     "text": [
      "[I 2025-05-31 11:15:26,179] Trial 13 finished with value: 73947.15152677055 and parameters: {'num_leaves': 129, 'learning_rate': 0.16704421813650794, 'feature_fraction': 0.8852904230623309, 'bagging_fraction': 0.7001224561674936, 'bagging_freq': 4, 'min_child_samples': 189, 'reg_alpha': 15.396903192340002, 'reg_lambda': 11.961709857512588, 'max_depth': 4, 'min_split_gain': 2.4492996739980013}. Best is trial 12 with value: 73917.23853824621.\n"
     ]
    },
    {
     "name": "stdout",
     "output_type": "stream",
     "text": [
      "Early stopping, best iteration is:\n",
      "[88]\tvalid_0's rmse: 73086.2\n",
      "Training until validation scores don't improve for 100 rounds\n",
      "Early stopping, best iteration is:\n",
      "[33]\tvalid_0's rmse: 74961.8\n",
      "Training until validation scores don't improve for 100 rounds\n",
      "Early stopping, best iteration is:\n",
      "[16]\tvalid_0's rmse: 73927.7\n",
      "Training until validation scores don't improve for 100 rounds\n"
     ]
    },
    {
     "name": "stderr",
     "output_type": "stream",
     "text": [
      "[I 2025-05-31 11:15:28,073] Trial 14 finished with value: 74021.39928921485 and parameters: {'num_leaves': 110, 'learning_rate': 0.16161521205480903, 'feature_fraction': 0.6809515655678133, 'bagging_fraction': 0.7060960833353402, 'bagging_freq': 8, 'min_child_samples': 121, 'reg_alpha': 7.536752819620469, 'reg_lambda': 5.545881859287201, 'max_depth': 8, 'min_split_gain': 3.360796841369523}. Best is trial 12 with value: 73917.23853824621.\n"
     ]
    },
    {
     "name": "stdout",
     "output_type": "stream",
     "text": [
      "Early stopping, best iteration is:\n",
      "[34]\tvalid_0's rmse: 73174.7\n",
      "Training until validation scores don't improve for 100 rounds\n",
      "Early stopping, best iteration is:\n",
      "[35]\tvalid_0's rmse: 74807.4\n",
      "Training until validation scores don't improve for 100 rounds\n",
      "Early stopping, best iteration is:\n",
      "[33]\tvalid_0's rmse: 73793.2\n",
      "Training until validation scores don't improve for 100 rounds\n"
     ]
    },
    {
     "name": "stderr",
     "output_type": "stream",
     "text": [
      "[I 2025-05-31 11:15:30,170] Trial 15 finished with value: 73914.34683452432 and parameters: {'num_leaves': 365, 'learning_rate': 0.11809069103869693, 'feature_fraction': 0.8517634812911524, 'bagging_fraction': 0.7913452565268205, 'bagging_freq': 5, 'min_child_samples': 164, 'reg_alpha': 19.67973555740304, 'reg_lambda': 14.519142755298255, 'max_depth': 8, 'min_split_gain': 1.416064996871092}. Best is trial 15 with value: 73914.34683452432.\n"
     ]
    },
    {
     "name": "stdout",
     "output_type": "stream",
     "text": [
      "Early stopping, best iteration is:\n",
      "[61]\tvalid_0's rmse: 73142.4\n",
      "Training until validation scores don't improve for 100 rounds\n",
      "Early stopping, best iteration is:\n",
      "[32]\tvalid_0's rmse: 74864.3\n",
      "Training until validation scores don't improve for 100 rounds\n",
      "Early stopping, best iteration is:\n",
      "[30]\tvalid_0's rmse: 73767.6\n",
      "Training until validation scores don't improve for 100 rounds\n"
     ]
    },
    {
     "name": "stderr",
     "output_type": "stream",
     "text": [
      "[I 2025-05-31 11:15:32,168] Trial 16 finished with value: 73928.46029986182 and parameters: {'num_leaves': 354, 'learning_rate': 0.12337064414754556, 'feature_fraction': 0.8469950283722245, 'bagging_fraction': 0.7948872129182994, 'bagging_freq': 4, 'min_child_samples': 178, 'reg_alpha': 19.93046859772675, 'reg_lambda': 12.036070802821225, 'max_depth': 8, 'min_split_gain': 3.982907464567622}. Best is trial 15 with value: 73914.34683452432.\n"
     ]
    },
    {
     "name": "stdout",
     "output_type": "stream",
     "text": [
      "Early stopping, best iteration is:\n",
      "[40]\tvalid_0's rmse: 73153.5\n",
      "Training until validation scores don't improve for 100 rounds\n",
      "Early stopping, best iteration is:\n",
      "[29]\tvalid_0's rmse: 74901.3\n",
      "Training until validation scores don't improve for 100 rounds\n",
      "Early stopping, best iteration is:\n",
      "[23]\tvalid_0's rmse: 73790.6\n",
      "Training until validation scores don't improve for 100 rounds\n"
     ]
    },
    {
     "name": "stderr",
     "output_type": "stream",
     "text": [
      "[I 2025-05-31 11:15:34,224] Trial 17 finished with value: 73926.229055365 and parameters: {'num_leaves': 352, 'learning_rate': 0.1204081634123574, 'feature_fraction': 0.6786736487988183, 'bagging_fraction': 0.9072137874673691, 'bagging_freq': 5, 'min_child_samples': 103, 'reg_alpha': 16.758139191739122, 'reg_lambda': 13.973183574187171, 'max_depth': 8, 'min_split_gain': 6.010334570810319}. Best is trial 15 with value: 73914.34683452432.\n"
     ]
    },
    {
     "name": "stdout",
     "output_type": "stream",
     "text": [
      "Early stopping, best iteration is:\n",
      "[31]\tvalid_0's rmse: 73086.7\n",
      "Training until validation scores don't improve for 100 rounds\n",
      "Early stopping, best iteration is:\n",
      "[44]\tvalid_0's rmse: 74947.8\n",
      "Training until validation scores don't improve for 100 rounds\n",
      "Early stopping, best iteration is:\n",
      "[46]\tvalid_0's rmse: 73830\n",
      "Training until validation scores don't improve for 100 rounds\n"
     ]
    },
    {
     "name": "stderr",
     "output_type": "stream",
     "text": [
      "[I 2025-05-31 11:15:38,508] Trial 18 finished with value: 73978.59862362132 and parameters: {'num_leaves': 287, 'learning_rate': 0.08520361689942446, 'feature_fraction': 0.9685859203188033, 'bagging_fraction': 0.9992218323722148, 'bagging_freq': 3, 'min_child_samples': 174, 'reg_alpha': 17.725601641297782, 'reg_lambda': 14.952684364533795, 'max_depth': 13, 'min_split_gain': 1.2785855619522657}. Best is trial 15 with value: 73914.34683452432.\n"
     ]
    },
    {
     "name": "stdout",
     "output_type": "stream",
     "text": [
      "Early stopping, best iteration is:\n",
      "[37]\tvalid_0's rmse: 73157.9\n",
      "Training until validation scores don't improve for 100 rounds\n",
      "Early stopping, best iteration is:\n",
      "[115]\tvalid_0's rmse: 74880.4\n",
      "Training until validation scores don't improve for 100 rounds\n",
      "Early stopping, best iteration is:\n",
      "[73]\tvalid_0's rmse: 73771.1\n",
      "Training until validation scores don't improve for 100 rounds\n"
     ]
    },
    {
     "name": "stderr",
     "output_type": "stream",
     "text": [
      "[I 2025-05-31 11:15:41,173] Trial 19 finished with value: 73907.67193356232 and parameters: {'num_leaves': 217, 'learning_rate': 0.05570969595906301, 'feature_fraction': 0.8395385058196053, 'bagging_fraction': 0.7844449702682434, 'bagging_freq': 4, 'min_child_samples': 120, 'reg_alpha': 14.44340484320141, 'reg_lambda': 0.5717943186794763, 'max_depth': 7, 'min_split_gain': 3.7452816813097662}. Best is trial 19 with value: 73907.67193356232.\n"
     ]
    },
    {
     "name": "stdout",
     "output_type": "stream",
     "text": [
      "Early stopping, best iteration is:\n",
      "[90]\tvalid_0's rmse: 73071.5\n",
      "Training until validation scores don't improve for 100 rounds\n",
      "Early stopping, best iteration is:\n",
      "[158]\tvalid_0's rmse: 74929.1\n",
      "Training until validation scores don't improve for 100 rounds\n",
      "Early stopping, best iteration is:\n",
      "[153]\tvalid_0's rmse: 73818.3\n",
      "Training until validation scores don't improve for 100 rounds\n"
     ]
    },
    {
     "name": "stderr",
     "output_type": "stream",
     "text": [
      "[I 2025-05-31 11:15:43,479] Trial 20 finished with value: 73947.35509210156 and parameters: {'num_leaves': 222, 'learning_rate': 0.04129410505283801, 'feature_fraction': 0.838848520303817, 'bagging_fraction': 0.7903421064109467, 'bagging_freq': 2, 'min_child_samples': 103, 'reg_alpha': 14.045336842290544, 'reg_lambda': 0.7489285630274956, 'max_depth': 4, 'min_split_gain': 7.082332729917957}. Best is trial 19 with value: 73907.67193356232.\n"
     ]
    },
    {
     "name": "stdout",
     "output_type": "stream",
     "text": [
      "Early stopping, best iteration is:\n",
      "[168]\tvalid_0's rmse: 73094.7\n",
      "Training until validation scores don't improve for 100 rounds\n",
      "Early stopping, best iteration is:\n",
      "[48]\tvalid_0's rmse: 74895.4\n",
      "Training until validation scores don't improve for 100 rounds\n",
      "Early stopping, best iteration is:\n",
      "[65]\tvalid_0's rmse: 73754.9\n",
      "Training until validation scores don't improve for 100 rounds\n"
     ]
    },
    {
     "name": "stderr",
     "output_type": "stream",
     "text": [
      "[I 2025-05-31 11:15:45,637] Trial 21 finished with value: 73918.90961119135 and parameters: {'num_leaves': 343, 'learning_rate': 0.07007571155480191, 'feature_fraction': 0.83717434772894, 'bagging_fraction': 0.7674866758723777, 'bagging_freq': 4, 'min_child_samples': 130, 'reg_alpha': 18.387413800883266, 'reg_lambda': 4.401695612554213, 'max_depth': 7, 'min_split_gain': 3.5996254420137146}. Best is trial 19 with value: 73907.67193356232.\n"
     ]
    },
    {
     "name": "stdout",
     "output_type": "stream",
     "text": [
      "Early stopping, best iteration is:\n",
      "[60]\tvalid_0's rmse: 73106.5\n",
      "Training until validation scores don't improve for 100 rounds\n",
      "Early stopping, best iteration is:\n",
      "[280]\tvalid_0's rmse: 74840.6\n",
      "Training until validation scores don't improve for 100 rounds\n",
      "Early stopping, best iteration is:\n",
      "[255]\tvalid_0's rmse: 73724.2\n",
      "Training until validation scores don't improve for 100 rounds\n"
     ]
    },
    {
     "name": "stderr",
     "output_type": "stream",
     "text": [
      "[I 2025-05-31 11:15:54,011] Trial 22 finished with value: 73886.28768278348 and parameters: {'num_leaves': 407, 'learning_rate': 0.013414960364520945, 'feature_fraction': 0.9481220490617286, 'bagging_fraction': 0.8172078541002703, 'bagging_freq': 5, 'min_child_samples': 163, 'reg_alpha': 15.344611092013606, 'reg_lambda': 0.22164954570249756, 'max_depth': 9, 'min_split_gain': 1.860554875118146}. Best is trial 22 with value: 73886.28768278348.\n"
     ]
    },
    {
     "name": "stdout",
     "output_type": "stream",
     "text": [
      "Early stopping, best iteration is:\n",
      "[306]\tvalid_0's rmse: 73094\n",
      "Training until validation scores don't improve for 100 rounds\n",
      "Early stopping, best iteration is:\n",
      "[115]\tvalid_0's rmse: 74897.6\n",
      "Training until validation scores don't improve for 100 rounds\n",
      "Early stopping, best iteration is:\n",
      "[103]\tvalid_0's rmse: 73768.4\n",
      "Training until validation scores don't improve for 100 rounds\n"
     ]
    },
    {
     "name": "stderr",
     "output_type": "stream",
     "text": [
      "[I 2025-05-31 11:15:58,777] Trial 23 finished with value: 73919.36742869554 and parameters: {'num_leaves': 408, 'learning_rate': 0.033216069562915826, 'feature_fraction': 0.9567807718824205, 'bagging_fraction': 0.8747965554261704, 'bagging_freq': 6, 'min_child_samples': 171, 'reg_alpha': 14.413915494063437, 'reg_lambda': 0.1487816643166725, 'max_depth': 9, 'min_split_gain': 4.506731217765537}. Best is trial 22 with value: 73886.28768278348.\n"
     ]
    },
    {
     "name": "stdout",
     "output_type": "stream",
     "text": [
      "Early stopping, best iteration is:\n",
      "[133]\tvalid_0's rmse: 73092\n",
      "Training until validation scores don't improve for 100 rounds\n",
      "Early stopping, best iteration is:\n",
      "[224]\tvalid_0's rmse: 74893.1\n",
      "Training until validation scores don't improve for 100 rounds\n",
      "Early stopping, best iteration is:\n",
      "[173]\tvalid_0's rmse: 73767.5\n",
      "Training until validation scores don't improve for 100 rounds\n"
     ]
    },
    {
     "name": "stderr",
     "output_type": "stream",
     "text": [
      "[I 2025-05-31 11:16:08,101] Trial 24 finished with value: 73927.83645432121 and parameters: {'num_leaves': 418, 'learning_rate': 0.018040965697610448, 'feature_fraction': 0.9380546702972236, 'bagging_fraction': 0.8145538822835793, 'bagging_freq': 4, 'min_child_samples': 117, 'reg_alpha': 12.792748444684044, 'reg_lambda': 3.3606326504981654, 'max_depth': 9, 'min_split_gain': 1.3159627573605364}. Best is trial 22 with value: 73886.28768278348.\n"
     ]
    },
    {
     "name": "stdout",
     "output_type": "stream",
     "text": [
      "Early stopping, best iteration is:\n",
      "[239]\tvalid_0's rmse: 73122.9\n",
      "Training until validation scores don't improve for 100 rounds\n",
      "Early stopping, best iteration is:\n",
      "[56]\tvalid_0's rmse: 75003.2\n",
      "Training until validation scores don't improve for 100 rounds\n",
      "Early stopping, best iteration is:\n",
      "[46]\tvalid_0's rmse: 73846.9\n",
      "Training until validation scores don't improve for 100 rounds\n"
     ]
    },
    {
     "name": "stderr",
     "output_type": "stream",
     "text": [
      "[I 2025-05-31 11:16:13,883] Trial 25 finished with value: 73997.71539746715 and parameters: {'num_leaves': 300, 'learning_rate': 0.0564254146831529, 'feature_fraction': 0.9345108471148191, 'bagging_fraction': 0.8997621508448534, 'bagging_freq': 2, 'min_child_samples': 80, 'reg_alpha': 15.54543228399163, 'reg_lambda': 1.3556921363793561, 'max_depth': 9, 'min_split_gain': 3.1113289179673886}. Best is trial 22 with value: 73886.28768278348.\n"
     ]
    },
    {
     "name": "stdout",
     "output_type": "stream",
     "text": [
      "Early stopping, best iteration is:\n",
      "[58]\tvalid_0's rmse: 73143\n",
      "Training until validation scores don't improve for 100 rounds\n",
      "Early stopping, best iteration is:\n",
      "[462]\tvalid_0's rmse: 74840.1\n",
      "Training until validation scores don't improve for 100 rounds\n",
      "Early stopping, best iteration is:\n",
      "[391]\tvalid_0's rmse: 73768\n",
      "Training until validation scores don't improve for 100 rounds\n"
     ]
    },
    {
     "name": "stderr",
     "output_type": "stream",
     "text": [
      "[I 2025-05-31 11:16:19,958] Trial 26 finished with value: 73883.64393067568 and parameters: {'num_leaves': 234, 'learning_rate': 0.014561526071026273, 'feature_fraction': 0.82341588703815, 'bagging_fraction': 0.7836909393370577, 'bagging_freq': 7, 'min_child_samples': 144, 'reg_alpha': 18.348139900229967, 'reg_lambda': 15.245683550676347, 'max_depth': 5, 'min_split_gain': 1.7498910321618122}. Best is trial 26 with value: 73883.64393067568.\n"
     ]
    },
    {
     "name": "stdout",
     "output_type": "stream",
     "text": [
      "Early stopping, best iteration is:\n",
      "[419]\tvalid_0's rmse: 73042.8\n",
      "Training until validation scores don't improve for 100 rounds\n",
      "Early stopping, best iteration is:\n",
      "[137]\tvalid_0's rmse: 74846.4\n",
      "Training until validation scores don't improve for 100 rounds\n",
      "Early stopping, best iteration is:\n",
      "[125]\tvalid_0's rmse: 73795.1\n",
      "Training until validation scores don't improve for 100 rounds\n"
     ]
    },
    {
     "name": "stderr",
     "output_type": "stream",
     "text": [
      "[I 2025-05-31 11:16:23,410] Trial 27 finished with value: 73905.7777504052 and parameters: {'num_leaves': 234, 'learning_rate': 0.04331185396788226, 'feature_fraction': 0.7328787803494187, 'bagging_fraction': 0.8352436993869267, 'bagging_freq': 7, 'min_child_samples': 138, 'reg_alpha': 0.3375958206647667, 'reg_lambda': 4.34274416470109, 'max_depth': 5, 'min_split_gain': 4.066158321153755}. Best is trial 26 with value: 73883.64393067568.\n"
     ]
    },
    {
     "name": "stdout",
     "output_type": "stream",
     "text": [
      "Early stopping, best iteration is:\n",
      "[182]\tvalid_0's rmse: 73075.8\n",
      "Training until validation scores don't improve for 100 rounds\n",
      "Early stopping, best iteration is:\n",
      "[602]\tvalid_0's rmse: 74845.1\n",
      "Training until validation scores don't improve for 100 rounds\n",
      "Early stopping, best iteration is:\n",
      "[583]\tvalid_0's rmse: 73803.5\n",
      "Training until validation scores don't improve for 100 rounds\n"
     ]
    },
    {
     "name": "stderr",
     "output_type": "stream",
     "text": [
      "[I 2025-05-31 11:16:29,018] Trial 28 finished with value: 73902.04496466959 and parameters: {'num_leaves': 251, 'learning_rate': 0.015401900339166406, 'feature_fraction': 0.7081886707836313, 'bagging_fraction': 0.8341770318043369, 'bagging_freq': 7, 'min_child_samples': 139, 'reg_alpha': 1.2320558715811565, 'reg_lambda': 4.020719835913851, 'max_depth': 4, 'min_split_gain': 5.006725913553209}. Best is trial 26 with value: 73883.64393067568.\n"
     ]
    },
    {
     "name": "stdout",
     "output_type": "stream",
     "text": [
      "Early stopping, best iteration is:\n",
      "[384]\tvalid_0's rmse: 73057.4\n",
      "Training until validation scores don't improve for 100 rounds\n",
      "Early stopping, best iteration is:\n",
      "[1321]\tvalid_0's rmse: 74879\n",
      "Training until validation scores don't improve for 100 rounds\n",
      "Early stopping, best iteration is:\n",
      "[770]\tvalid_0's rmse: 73819\n",
      "Training until validation scores don't improve for 100 rounds\n"
     ]
    },
    {
     "name": "stderr",
     "output_type": "stream",
     "text": [
      "[I 2025-05-31 11:16:36,459] Trial 29 finished with value: 73921.81235877519 and parameters: {'num_leaves': 316, 'learning_rate': 0.013189964987254197, 'feature_fraction': 0.717019594283794, 'bagging_fraction': 0.8575218953419373, 'bagging_freq': 8, 'min_child_samples': 184, 'reg_alpha': 7.31828722611616, 'reg_lambda': 10.53392286946364, 'max_depth': 3, 'min_split_gain': 6.6501734324293515}. Best is trial 26 with value: 73883.64393067568.\n"
     ]
    },
    {
     "name": "stdout",
     "output_type": "stream",
     "text": [
      "Early stopping, best iteration is:\n",
      "[739]\tvalid_0's rmse: 73067.4\n",
      "Training until validation scores don't improve for 100 rounds\n",
      "Early stopping, best iteration is:\n",
      "[559]\tvalid_0's rmse: 74824.8\n",
      "Training until validation scores don't improve for 100 rounds\n",
      "Early stopping, best iteration is:\n",
      "[282]\tvalid_0's rmse: 73840.5\n",
      "Training until validation scores don't improve for 100 rounds\n"
     ]
    },
    {
     "name": "stderr",
     "output_type": "stream",
     "text": [
      "[I 2025-05-31 11:16:40,165] Trial 30 finished with value: 73904.44736438479 and parameters: {'num_leaves': 191, 'learning_rate': 0.032088855138392394, 'feature_fraction': 0.7444501741618026, 'bagging_fraction': 0.9188615871304219, 'bagging_freq': 9, 'min_child_samples': 137, 'reg_alpha': 5.313413752397476, 'reg_lambda': 3.536719839759723, 'max_depth': 3, 'min_split_gain': 9.890171849099788}. Best is trial 26 with value: 73883.64393067568.\n"
     ]
    },
    {
     "name": "stdout",
     "output_type": "stream",
     "text": [
      "Early stopping, best iteration is:\n",
      "[351]\tvalid_0's rmse: 73048\n",
      "Training until validation scores don't improve for 100 rounds\n",
      "Early stopping, best iteration is:\n",
      "[920]\tvalid_0's rmse: 74881.4\n",
      "Training until validation scores don't improve for 100 rounds\n",
      "Early stopping, best iteration is:\n",
      "[1040]\tvalid_0's rmse: 73816.7\n",
      "Training until validation scores don't improve for 100 rounds\n"
     ]
    },
    {
     "name": "stderr",
     "output_type": "stream",
     "text": [
      "[I 2025-05-31 11:16:48,610] Trial 31 finished with value: 73913.30597400045 and parameters: {'num_leaves': 191, 'learning_rate': 0.010523487818326821, 'feature_fraction': 0.7359066251766325, 'bagging_fraction': 0.9480400331197139, 'bagging_freq': 10, 'min_child_samples': 140, 'reg_alpha': 5.281383819899346, 'reg_lambda': 3.3598499057066396, 'max_depth': 3, 'min_split_gain': 9.943915745764535}. Best is trial 26 with value: 73883.64393067568.\n"
     ]
    },
    {
     "name": "stdout",
     "output_type": "stream",
     "text": [
      "Early stopping, best iteration is:\n",
      "[1226]\tvalid_0's rmse: 73041.7\n",
      "Training until validation scores don't improve for 100 rounds\n",
      "Early stopping, best iteration is:\n",
      "[354]\tvalid_0's rmse: 74813.2\n",
      "Training until validation scores don't improve for 100 rounds\n",
      "Early stopping, best iteration is:\n",
      "[210]\tvalid_0's rmse: 73761.7\n",
      "Training until validation scores don't improve for 100 rounds\n"
     ]
    },
    {
     "name": "stderr",
     "output_type": "stream",
     "text": [
      "[I 2025-05-31 11:16:53,225] Trial 32 finished with value: 73866.24303463734 and parameters: {'num_leaves': 258, 'learning_rate': 0.029150604696826378, 'feature_fraction': 0.6893647242049336, 'bagging_fraction': 0.8254216113929851, 'bagging_freq': 9, 'min_child_samples': 165, 'reg_alpha': 0.5561489729464535, 'reg_lambda': 4.7924532471558265, 'max_depth': 5, 'min_split_gain': 7.856296025822324}. Best is trial 32 with value: 73866.24303463734.\n"
     ]
    },
    {
     "name": "stdout",
     "output_type": "stream",
     "text": [
      "Early stopping, best iteration is:\n",
      "[264]\tvalid_0's rmse: 73023.8\n",
      "Training until validation scores don't improve for 100 rounds\n",
      "Early stopping, best iteration is:\n",
      "[387]\tvalid_0's rmse: 74803.6\n",
      "Training until validation scores don't improve for 100 rounds\n",
      "Early stopping, best iteration is:\n",
      "[277]\tvalid_0's rmse: 73754\n",
      "Training until validation scores don't improve for 100 rounds\n"
     ]
    },
    {
     "name": "stderr",
     "output_type": "stream",
     "text": [
      "[I 2025-05-31 11:16:57,392] Trial 33 finished with value: 73855.38620518688 and parameters: {'num_leaves': 253, 'learning_rate': 0.027580848843476478, 'feature_fraction': 0.6465111877030737, 'bagging_fraction': 0.8189304426542084, 'bagging_freq': 9, 'min_child_samples': 162, 'reg_alpha': 0.058558842142326706, 'reg_lambda': 7.702459308524067, 'max_depth': 5, 'min_split_gain': 7.422260352882802}. Best is trial 33 with value: 73855.38620518688.\n"
     ]
    },
    {
     "name": "stdout",
     "output_type": "stream",
     "text": [
      "Early stopping, best iteration is:\n",
      "[323]\tvalid_0's rmse: 73008.5\n",
      "Training until validation scores don't improve for 100 rounds\n",
      "Early stopping, best iteration is:\n",
      "[387]\tvalid_0's rmse: 74794.8\n",
      "Training until validation scores don't improve for 100 rounds\n",
      "Early stopping, best iteration is:\n",
      "[213]\tvalid_0's rmse: 73753.1\n",
      "Training until validation scores don't improve for 100 rounds\n"
     ]
    },
    {
     "name": "stderr",
     "output_type": "stream",
     "text": [
      "[I 2025-05-31 11:17:01,419] Trial 34 finished with value: 73852.61554960295 and parameters: {'num_leaves': 260, 'learning_rate': 0.029407001089711587, 'feature_fraction': 0.6358056635116839, 'bagging_fraction': 0.8194830816580708, 'bagging_freq': 9, 'min_child_samples': 162, 'reg_alpha': 0.3074263733023067, 'reg_lambda': 19.930401657613665, 'max_depth': 5, 'min_split_gain': 7.2715609253295375}. Best is trial 34 with value: 73852.61554960295.\n"
     ]
    },
    {
     "name": "stdout",
     "output_type": "stream",
     "text": [
      "Early stopping, best iteration is:\n",
      "[353]\tvalid_0's rmse: 73010\n",
      "Training until validation scores don't improve for 100 rounds\n",
      "Early stopping, best iteration is:\n",
      "[259]\tvalid_0's rmse: 74833.4\n",
      "Training until validation scores don't improve for 100 rounds\n",
      "Early stopping, best iteration is:\n",
      "[283]\tvalid_0's rmse: 73734.7\n",
      "Training until validation scores don't improve for 100 rounds\n"
     ]
    },
    {
     "name": "stderr",
     "output_type": "stream",
     "text": [
      "[I 2025-05-31 11:17:05,168] Trial 35 finished with value: 73858.62903888857 and parameters: {'num_leaves': 271, 'learning_rate': 0.03113892240247744, 'feature_fraction': 0.6383741800034523, 'bagging_fraction': 0.8640513938709333, 'bagging_freq': 9, 'min_child_samples': 164, 'reg_alpha': 0.3609512044907821, 'reg_lambda': 19.875658162109357, 'max_depth': 5, 'min_split_gain': 7.354197179716644}. Best is trial 34 with value: 73852.61554960295.\n"
     ]
    },
    {
     "name": "stdout",
     "output_type": "stream",
     "text": [
      "Early stopping, best iteration is:\n",
      "[231]\tvalid_0's rmse: 73007.8\n",
      "Training until validation scores don't improve for 100 rounds\n",
      "Early stopping, best iteration is:\n",
      "[261]\tvalid_0's rmse: 74825.2\n",
      "Training until validation scores don't improve for 100 rounds\n",
      "Early stopping, best iteration is:\n",
      "[216]\tvalid_0's rmse: 73736.5\n",
      "Training until validation scores don't improve for 100 rounds\n"
     ]
    },
    {
     "name": "stderr",
     "output_type": "stream",
     "text": [
      "[I 2025-05-31 11:17:10,543] Trial 36 finished with value: 73848.81196301494 and parameters: {'num_leaves': 260, 'learning_rate': 0.03143841363586762, 'feature_fraction': 0.637919665321671, 'bagging_fraction': 0.8808458336980827, 'bagging_freq': 9, 'min_child_samples': 199, 'reg_alpha': 0.167537342169888, 'reg_lambda': 19.488715067347012, 'max_depth': 5, 'min_split_gain': 7.732800393631179}. Best is trial 36 with value: 73848.81196301494.\n"
     ]
    },
    {
     "name": "stdout",
     "output_type": "stream",
     "text": [
      "Early stopping, best iteration is:\n",
      "[324]\tvalid_0's rmse: 72984.7\n",
      "Training until validation scores don't improve for 100 rounds\n",
      "Early stopping, best iteration is:\n",
      "[82]\tvalid_0's rmse: 74822.5\n",
      "Training until validation scores don't improve for 100 rounds\n",
      "Early stopping, best iteration is:\n",
      "[66]\tvalid_0's rmse: 73748.4\n",
      "Training until validation scores don't improve for 100 rounds\n"
     ]
    },
    {
     "name": "stderr",
     "output_type": "stream",
     "text": [
      "[I 2025-05-31 11:17:13,158] Trial 37 finished with value: 73869.87972711066 and parameters: {'num_leaves': 319, 'learning_rate': 0.07012598459262466, 'feature_fraction': 0.6388309014666681, 'bagging_fraction': 0.8777835652638355, 'bagging_freq': 10, 'min_child_samples': 196, 'reg_alpha': 1.8754334568610755, 'reg_lambda': 19.991172549111454, 'max_depth': 5, 'min_split_gain': 7.752981936505873}. Best is trial 36 with value: 73848.81196301494.\n"
     ]
    },
    {
     "name": "stdout",
     "output_type": "stream",
     "text": [
      "Early stopping, best iteration is:\n",
      "[125]\tvalid_0's rmse: 73038.8\n",
      "Training until validation scores don't improve for 100 rounds\n",
      "Early stopping, best iteration is:\n",
      "[251]\tvalid_0's rmse: 74830.2\n",
      "Training until validation scores don't improve for 100 rounds\n",
      "Early stopping, best iteration is:\n",
      "[159]\tvalid_0's rmse: 73773.1\n",
      "Training until validation scores don't improve for 100 rounds\n"
     ]
    },
    {
     "name": "stderr",
     "output_type": "stream",
     "text": [
      "[I 2025-05-31 11:17:16,597] Trial 38 finished with value: 73872.14865259513 and parameters: {'num_leaves': 258, 'learning_rate': 0.05126627948246867, 'feature_fraction': 0.6392978520215109, 'bagging_fraction': 0.8565704411548227, 'bagging_freq': 9, 'min_child_samples': 187, 'reg_alpha': 3.639674572094953, 'reg_lambda': 17.47082361482305, 'max_depth': 4, 'min_split_gain': 8.063645410936285}. Best is trial 36 with value: 73848.81196301494.\n"
     ]
    },
    {
     "name": "stdout",
     "output_type": "stream",
     "text": [
      "Early stopping, best iteration is:\n",
      "[322]\tvalid_0's rmse: 73013.1\n",
      "Training until validation scores don't improve for 100 rounds\n",
      "Early stopping, best iteration is:\n",
      "[142]\tvalid_0's rmse: 74798.2\n",
      "Training until validation scores don't improve for 100 rounds\n",
      "Early stopping, best iteration is:\n",
      "[96]\tvalid_0's rmse: 73748.1\n",
      "Training until validation scores don't improve for 100 rounds\n"
     ]
    },
    {
     "name": "stderr",
     "output_type": "stream",
     "text": [
      "[I 2025-05-31 11:17:20,835] Trial 39 finished with value: 73861.584981826 and parameters: {'num_leaves': 279, 'learning_rate': 0.04025158109644233, 'feature_fraction': 0.6474351735718612, 'bagging_fraction': 0.9328132086194224, 'bagging_freq': 10, 'min_child_samples': 200, 'reg_alpha': 0.019568425571985737, 'reg_lambda': 19.994578919165402, 'max_depth': 6, 'min_split_gain': 6.3640603013624695}. Best is trial 36 with value: 73848.81196301494.\n"
     ]
    },
    {
     "name": "stdout",
     "output_type": "stream",
     "text": [
      "Early stopping, best iteration is:\n",
      "[125]\tvalid_0's rmse: 73038.4\n",
      "Training until validation scores don't improve for 100 rounds\n",
      "Early stopping, best iteration is:\n",
      "[112]\tvalid_0's rmse: 74834.3\n",
      "Training until validation scores don't improve for 100 rounds\n",
      "Early stopping, best iteration is:\n",
      "[98]\tvalid_0's rmse: 73770.3\n",
      "Training until validation scores don't improve for 100 rounds\n"
     ]
    },
    {
     "name": "stderr",
     "output_type": "stream",
     "text": [
      "[I 2025-05-31 11:17:28,244] Trial 40 finished with value: 73866.92162582005 and parameters: {'num_leaves': 158, 'learning_rate': 0.06387708813092555, 'feature_fraction': 0.6198859690527975, 'bagging_fraction': 0.8946316404495532, 'bagging_freq': 8, 'min_child_samples': 183, 'reg_alpha': 3.6892626678627742, 'reg_lambda': 16.4026369160128, 'max_depth': 5, 'min_split_gain': 7.223959600898821}. Best is trial 36 with value: 73848.81196301494.\n"
     ]
    },
    {
     "name": "stdout",
     "output_type": "stream",
     "text": [
      "Early stopping, best iteration is:\n",
      "[104]\tvalid_0's rmse: 72996.1\n",
      "Training until validation scores don't improve for 100 rounds\n",
      "Early stopping, best iteration is:\n",
      "[140]\tvalid_0's rmse: 74828.5\n",
      "Training until validation scores don't improve for 100 rounds\n",
      "Early stopping, best iteration is:\n",
      "[95]\tvalid_0's rmse: 73750.3\n",
      "Training until validation scores don't improve for 100 rounds\n"
     ]
    },
    {
     "name": "stderr",
     "output_type": "stream",
     "text": [
      "[I 2025-05-31 11:17:33,085] Trial 41 finished with value: 73873.74895624186 and parameters: {'num_leaves': 278, 'learning_rate': 0.04117119434922698, 'feature_fraction': 0.6650046065262408, 'bagging_fraction': 0.9374069982752512, 'bagging_freq': 10, 'min_child_samples': 198, 'reg_alpha': 0.03075276123596074, 'reg_lambda': 19.57763368615469, 'max_depth': 6, 'min_split_gain': 6.344681863609853}. Best is trial 36 with value: 73848.81196301494.\n"
     ]
    },
    {
     "name": "stdout",
     "output_type": "stream",
     "text": [
      "Early stopping, best iteration is:\n",
      "[123]\tvalid_0's rmse: 73042.4\n",
      "Training until validation scores don't improve for 100 rounds\n",
      "Early stopping, best iteration is:\n",
      "[458]\tvalid_0's rmse: 74813.7\n",
      "Training until validation scores don't improve for 100 rounds\n",
      "Early stopping, best iteration is:\n",
      "[397]\tvalid_0's rmse: 73768.4\n",
      "Training until validation scores don't improve for 100 rounds\n"
     ]
    },
    {
     "name": "stderr",
     "output_type": "stream",
     "text": [
      "[I 2025-05-31 11:17:40,168] Trial 42 finished with value: 73858.87538398028 and parameters: {'num_leaves': 304, 'learning_rate': 0.02554584638126814, 'feature_fraction': 0.6358140444551319, 'bagging_fraction': 0.9332193489178296, 'bagging_freq': 9, 'min_child_samples': 200, 'reg_alpha': 1.9008801796494958, 'reg_lambda': 18.754805488685307, 'max_depth': 4, 'min_split_gain': 5.656309663814929}. Best is trial 36 with value: 73848.81196301494.\n"
     ]
    },
    {
     "name": "stdout",
     "output_type": "stream",
     "text": [
      "Early stopping, best iteration is:\n",
      "[481]\tvalid_0's rmse: 72994.5\n",
      "Training until validation scores don't improve for 100 rounds\n",
      "Early stopping, best iteration is:\n",
      "[548]\tvalid_0's rmse: 74799.7\n",
      "Training until validation scores don't improve for 100 rounds\n",
      "Early stopping, best iteration is:\n",
      "[361]\tvalid_0's rmse: 73789.5\n",
      "Training until validation scores don't improve for 100 rounds\n"
     ]
    },
    {
     "name": "stderr",
     "output_type": "stream",
     "text": [
      "[I 2025-05-31 11:17:46,863] Trial 43 finished with value: 73868.64237365565 and parameters: {'num_leaves': 308, 'learning_rate': 0.02472533066379466, 'feature_fraction': 0.6294181998394688, 'bagging_fraction': 0.9732988704686842, 'bagging_freq': 9, 'min_child_samples': 172, 'reg_alpha': 2.3259532119348845, 'reg_lambda': 18.59023765896329, 'max_depth': 4, 'min_split_gain': 8.506132367881452}. Best is trial 36 with value: 73848.81196301494.\n"
     ]
    },
    {
     "name": "stdout",
     "output_type": "stream",
     "text": [
      "Early stopping, best iteration is:\n",
      "[517]\tvalid_0's rmse: 73016.8\n",
      "Training until validation scores don't improve for 100 rounds\n",
      "Early stopping, best iteration is:\n",
      "[257]\tvalid_0's rmse: 74872.7\n",
      "Training until validation scores don't improve for 100 rounds\n",
      "Early stopping, best iteration is:\n",
      "[182]\tvalid_0's rmse: 73801.9\n",
      "Training until validation scores don't improve for 100 rounds\n"
     ]
    },
    {
     "name": "stderr",
     "output_type": "stream",
     "text": [
      "[I 2025-05-31 11:17:49,005] Trial 44 finished with value: 73917.96806869635 and parameters: {'num_leaves': 207, 'learning_rate': 0.08600903969722619, 'feature_fraction': 0.6019149526822215, 'bagging_fraction': 0.8462246559667385, 'bagging_freq': 9, 'min_child_samples': 162, 'reg_alpha': 1.1297169447871986, 'reg_lambda': 17.491108365799075, 'max_depth': 3, 'min_split_gain': 5.546692656271973}. Best is trial 36 with value: 73848.81196301494.\n"
     ]
    },
    {
     "name": "stdout",
     "output_type": "stream",
     "text": [
      "Early stopping, best iteration is:\n",
      "[139]\tvalid_0's rmse: 73079.3\n",
      "Training until validation scores don't improve for 100 rounds\n",
      "Early stopping, best iteration is:\n",
      "[336]\tvalid_0's rmse: 74833.1\n",
      "Training until validation scores don't improve for 100 rounds\n",
      "Early stopping, best iteration is:\n",
      "[252]\tvalid_0's rmse: 73763.9\n",
      "Training until validation scores don't improve for 100 rounds\n"
     ]
    },
    {
     "name": "stderr",
     "output_type": "stream",
     "text": [
      "[I 2025-05-31 11:17:54,076] Trial 45 finished with value: 73865.80882328785 and parameters: {'num_leaves': 331, 'learning_rate': 0.025217062529400154, 'feature_fraction': 0.6671715268989165, 'bagging_fraction': 0.8751427310996568, 'bagging_freq': 8, 'min_child_samples': 192, 'reg_alpha': 2.385037275867012, 'reg_lambda': 18.940965492400107, 'max_depth': 5, 'min_split_gain': 9.13180983476564}. Best is trial 36 with value: 73848.81196301494.\n"
     ]
    },
    {
     "name": "stdout",
     "output_type": "stream",
     "text": [
      "Early stopping, best iteration is:\n",
      "[451]\tvalid_0's rmse: 73000.5\n",
      "Training until validation scores don't improve for 100 rounds\n",
      "Early stopping, best iteration is:\n",
      "[82]\tvalid_0's rmse: 74984.9\n",
      "Training until validation scores don't improve for 100 rounds\n",
      "Early stopping, best iteration is:\n",
      "[68]\tvalid_0's rmse: 73819.4\n",
      "Training until validation scores don't improve for 100 rounds\n"
     ]
    },
    {
     "name": "stderr",
     "output_type": "stream",
     "text": [
      "[I 2025-05-31 11:17:57,737] Trial 46 finished with value: 73984.31948620563 and parameters: {'num_leaves': 254, 'learning_rate': 0.04764061835245175, 'feature_fraction': 0.6240679727677392, 'bagging_fraction': 0.8879084475434408, 'bagging_freq': 9, 'min_child_samples': 44, 'reg_alpha': 4.4169420448328784, 'reg_lambda': 16.3199109349314, 'max_depth': 7, 'min_split_gain': 7.520435276792637}. Best is trial 36 with value: 73848.81196301494.\n"
     ]
    },
    {
     "name": "stdout",
     "output_type": "stream",
     "text": [
      "Early stopping, best iteration is:\n",
      "[89]\tvalid_0's rmse: 73148.7\n",
      "Training until validation scores don't improve for 100 rounds\n",
      "Early stopping, best iteration is:\n",
      "[448]\tvalid_0's rmse: 74817.8\n",
      "Training until validation scores don't improve for 100 rounds\n",
      "Early stopping, best iteration is:\n",
      "[216]\tvalid_0's rmse: 73768.7\n",
      "Training until validation scores don't improve for 100 rounds\n"
     ]
    },
    {
     "name": "stderr",
     "output_type": "stream",
     "text": [
      "[I 2025-05-31 11:18:01,697] Trial 47 finished with value: 73869.38530320658 and parameters: {'num_leaves': 294, 'learning_rate': 0.03590824778894499, 'feature_fraction': 0.6576803568111428, 'bagging_fraction': 0.9659390610201735, 'bagging_freq': 8, 'min_child_samples': 181, 'reg_alpha': 1.5681743105139658, 'reg_lambda': 8.308863206798785, 'max_depth': 4, 'min_split_gain': 8.359502353535513}. Best is trial 36 with value: 73848.81196301494.\n"
     ]
    },
    {
     "name": "stdout",
     "output_type": "stream",
     "text": [
      "Early stopping, best iteration is:\n",
      "[280]\tvalid_0's rmse: 73021.7\n",
      "Training until validation scores don't improve for 100 rounds\n",
      "Early stopping, best iteration is:\n",
      "[38]\tvalid_0's rmse: 74847.9\n",
      "Training until validation scores don't improve for 100 rounds\n",
      "Early stopping, best iteration is:\n",
      "[42]\tvalid_0's rmse: 73790\n",
      "Training until validation scores don't improve for 100 rounds\n"
     ]
    },
    {
     "name": "stderr",
     "output_type": "stream",
     "text": [
      "[I 2025-05-31 11:18:04,254] Trial 48 finished with value: 73906.46958511365 and parameters: {'num_leaves': 165, 'learning_rate': 0.10291806005700806, 'feature_fraction': 0.699316758235275, 'bagging_fraction': 0.9109915775004556, 'bagging_freq': 10, 'min_child_samples': 149, 'reg_alpha': 3.1165784021689737, 'reg_lambda': 18.027412687591436, 'max_depth': 6, 'min_split_gain': 5.570407655619458}. Best is trial 36 with value: 73848.81196301494.\n"
     ]
    },
    {
     "name": "stdout",
     "output_type": "stream",
     "text": [
      "Early stopping, best iteration is:\n",
      "[72]\tvalid_0's rmse: 73081.5\n",
      "Training until validation scores don't improve for 100 rounds\n",
      "Early stopping, best iteration is:\n",
      "[59]\tvalid_0's rmse: 74868.4\n",
      "Training until validation scores don't improve for 100 rounds\n",
      "Early stopping, best iteration is:\n",
      "[50]\tvalid_0's rmse: 73800.6\n",
      "Training until validation scores don't improve for 100 rounds\n"
     ]
    },
    {
     "name": "stderr",
     "output_type": "stream",
     "text": [
      "[I 2025-05-31 11:18:12,429] Trial 49 finished with value: 73935.54515391751 and parameters: {'num_leaves': 270, 'learning_rate': 0.06054139793503767, 'feature_fraction': 0.602218738072376, 'bagging_fraction': 0.8145150638332653, 'bagging_freq': 9, 'min_child_samples': 92, 'reg_alpha': 1.291761943007916, 'reg_lambda': 18.92366985076052, 'max_depth': 14, 'min_split_gain': 9.299049724817847}. Best is trial 36 with value: 73848.81196301494.\n"
     ]
    },
    {
     "name": "stdout",
     "output_type": "stream",
     "text": [
      "Early stopping, best iteration is:\n",
      "[67]\tvalid_0's rmse: 73137.7\n",
      "Training until validation scores don't improve for 100 rounds\n",
      "Early stopping, best iteration is:\n",
      "[288]\tvalid_0's rmse: 74828.6\n",
      "Training until validation scores don't improve for 100 rounds\n",
      "Early stopping, best iteration is:\n",
      "[156]\tvalid_0's rmse: 73729\n",
      "Training until validation scores don't improve for 100 rounds\n"
     ]
    },
    {
     "name": "stderr",
     "output_type": "stream",
     "text": [
      "[I 2025-05-31 11:18:17,061] Trial 50 finished with value: 73855.44340624286 and parameters: {'num_leaves': 389, 'learning_rate': 0.028543296674816226, 'feature_fraction': 0.6708602683435247, 'bagging_fraction': 0.8467829857661133, 'bagging_freq': 8, 'min_child_samples': 192, 'reg_alpha': 8.672422810119201, 'reg_lambda': 13.192720378937185, 'max_depth': 6, 'min_split_gain': 7.3955079413720854}. Best is trial 36 with value: 73848.81196301494.\n"
     ]
    },
    {
     "name": "stdout",
     "output_type": "stream",
     "text": [
      "Early stopping, best iteration is:\n",
      "[263]\tvalid_0's rmse: 73008.8\n",
      "Training until validation scores don't improve for 100 rounds\n",
      "Early stopping, best iteration is:\n",
      "[269]\tvalid_0's rmse: 74807.1\n",
      "Training until validation scores don't improve for 100 rounds\n",
      "Early stopping, best iteration is:\n",
      "[181]\tvalid_0's rmse: 73745.6\n",
      "Training until validation scores don't improve for 100 rounds\n"
     ]
    },
    {
     "name": "stderr",
     "output_type": "stream",
     "text": [
      "[I 2025-05-31 11:18:22,133] Trial 51 finished with value: 73840.04354122226 and parameters: {'num_leaves': 378, 'learning_rate': 0.023378411425454236, 'feature_fraction': 0.6742051958542644, 'bagging_fraction': 0.8509287409942066, 'bagging_freq': 8, 'min_child_samples': 190, 'reg_alpha': 0.8865266641372724, 'reg_lambda': 17.052009711000956, 'max_depth': 6, 'min_split_gain': 7.483692394911305}. Best is trial 51 with value: 73840.04354122226.\n"
     ]
    },
    {
     "name": "stdout",
     "output_type": "stream",
     "text": [
      "Early stopping, best iteration is:\n",
      "[282]\tvalid_0's rmse: 72967.4\n",
      "Training until validation scores don't improve for 100 rounds\n",
      "Early stopping, best iteration is:\n",
      "[346]\tvalid_0's rmse: 74829.3\n",
      "Training until validation scores don't improve for 100 rounds\n",
      "Early stopping, best iteration is:\n",
      "[248]\tvalid_0's rmse: 73749\n",
      "Training until validation scores don't improve for 100 rounds\n"
     ]
    },
    {
     "name": "stderr",
     "output_type": "stream",
     "text": [
      "[I 2025-05-31 11:18:28,000] Trial 52 finished with value: 73865.10403930613 and parameters: {'num_leaves': 457, 'learning_rate': 0.02109071067621846, 'feature_fraction': 0.6775933485923039, 'bagging_fraction': 0.8521574168034378, 'bagging_freq': 8, 'min_child_samples': 157, 'reg_alpha': 9.733559203668245, 'reg_lambda': 13.13386682648439, 'max_depth': 6, 'min_split_gain': 7.395470851757126}. Best is trial 51 with value: 73840.04354122226.\n"
     ]
    },
    {
     "name": "stdout",
     "output_type": "stream",
     "text": [
      "Early stopping, best iteration is:\n",
      "[281]\tvalid_0's rmse: 73017.1\n",
      "Training until validation scores don't improve for 100 rounds\n",
      "Early stopping, best iteration is:\n",
      "[162]\tvalid_0's rmse: 74833.1\n",
      "Training until validation scores don't improve for 100 rounds\n",
      "Early stopping, best iteration is:\n",
      "[94]\tvalid_0's rmse: 73734.1\n",
      "Training until validation scores don't improve for 100 rounds\n"
     ]
    },
    {
     "name": "stderr",
     "output_type": "stream",
     "text": [
      "[I 2025-05-31 11:18:33,909] Trial 53 finished with value: 73852.20076548016 and parameters: {'num_leaves': 376, 'learning_rate': 0.03438908301101634, 'feature_fraction': 0.6625622450392118, 'bagging_fraction': 0.8366826626407137, 'bagging_freq': 8, 'min_child_samples': 170, 'reg_alpha': 6.382634165362043, 'reg_lambda': 15.853227449920308, 'max_depth': 7, 'min_split_gain': 6.85692771883042}. Best is trial 51 with value: 73840.04354122226.\n"
     ]
    },
    {
     "name": "stdout",
     "output_type": "stream",
     "text": [
      "Early stopping, best iteration is:\n",
      "[122]\tvalid_0's rmse: 72989.4\n",
      "Training until validation scores don't improve for 100 rounds\n",
      "Early stopping, best iteration is:\n",
      "[100]\tvalid_0's rmse: 74817.8\n",
      "Training until validation scores don't improve for 100 rounds\n",
      "Early stopping, best iteration is:\n",
      "[80]\tvalid_0's rmse: 73710.4\n",
      "Training until validation scores don't improve for 100 rounds\n"
     ]
    },
    {
     "name": "stderr",
     "output_type": "stream",
     "text": [
      "[I 2025-05-31 11:18:39,937] Trial 54 finished with value: 73853.49149374971 and parameters: {'num_leaves': 386, 'learning_rate': 0.05024810020661355, 'feature_fraction': 0.6984347733958836, 'bagging_fraction': 0.8086580993376367, 'bagging_freq': 8, 'min_child_samples': 191, 'reg_alpha': 6.4769727472822165, 'reg_lambda': 15.716758971663404, 'max_depth': 7, 'min_split_gain': 6.841937287979989}. Best is trial 51 with value: 73840.04354122226.\n"
     ]
    },
    {
     "name": "stdout",
     "output_type": "stream",
     "text": [
      "Early stopping, best iteration is:\n",
      "[97]\tvalid_0's rmse: 73032.2\n",
      "Training until validation scores don't improve for 100 rounds\n",
      "Early stopping, best iteration is:\n",
      "[100]\tvalid_0's rmse: 74831\n",
      "Training until validation scores don't improve for 100 rounds\n",
      "Early stopping, best iteration is:\n",
      "[72]\tvalid_0's rmse: 73744.2\n",
      "Training until validation scores don't improve for 100 rounds\n"
     ]
    },
    {
     "name": "stderr",
     "output_type": "stream",
     "text": [
      "[I 2025-05-31 11:18:45,803] Trial 55 finished with value: 73880.9960076864 and parameters: {'num_leaves': 447, 'learning_rate': 0.04736595587597775, 'feature_fraction': 0.7812746150272913, 'bagging_fraction': 0.8112318390226034, 'bagging_freq': 7, 'min_child_samples': 178, 'reg_alpha': 6.4829198914309405, 'reg_lambda': 15.646485628695094, 'max_depth': 7, 'min_split_gain': 6.801266305630223}. Best is trial 51 with value: 73840.04354122226.\n"
     ]
    },
    {
     "name": "stdout",
     "output_type": "stream",
     "text": [
      "Early stopping, best iteration is:\n",
      "[137]\tvalid_0's rmse: 73067.8\n",
      "Training until validation scores don't improve for 100 rounds\n",
      "Early stopping, best iteration is:\n",
      "[172]\tvalid_0's rmse: 74831.1\n",
      "Training until validation scores don't improve for 100 rounds\n",
      "Early stopping, best iteration is:\n",
      "[102]\tvalid_0's rmse: 73718.8\n",
      "Training until validation scores don't improve for 100 rounds\n"
     ]
    },
    {
     "name": "stderr",
     "output_type": "stream",
     "text": [
      "[I 2025-05-31 11:19:04,862] Trial 56 finished with value: 73859.20200113619 and parameters: {'num_leaves': 370, 'learning_rate': 0.037232161650686595, 'feature_fraction': 0.6917289395169219, 'bagging_fraction': 0.8285519950403945, 'bagging_freq': 6, 'min_child_samples': 172, 'reg_alpha': 11.514253668606406, 'reg_lambda': 9.935075454787812, 'max_depth': 8, 'min_split_gain': 8.18024137084982}. Best is trial 51 with value: 73840.04354122226.\n"
     ]
    },
    {
     "name": "stdout",
     "output_type": "stream",
     "text": [
      "Early stopping, best iteration is:\n",
      "[137]\tvalid_0's rmse: 73027.7\n",
      "Training until validation scores don't improve for 100 rounds\n",
      "Early stopping, best iteration is:\n",
      "[59]\tvalid_0's rmse: 74831\n",
      "Training until validation scores don't improve for 100 rounds\n",
      "Early stopping, best iteration is:\n",
      "[79]\tvalid_0's rmse: 73739.9\n",
      "Training until validation scores don't improve for 100 rounds\n"
     ]
    },
    {
     "name": "stderr",
     "output_type": "stream",
     "text": [
      "[I 2025-05-31 11:19:09,597] Trial 57 finished with value: 73867.09942472413 and parameters: {'num_leaves': 431, 'learning_rate': 0.08016388950409246, 'feature_fraction': 0.6542591187594646, 'bagging_fraction': 0.7536761536294273, 'bagging_freq': 8, 'min_child_samples': 188, 'reg_alpha': 4.3312815574100085, 'reg_lambda': 17.325217223867856, 'max_depth': 7, 'min_split_gain': 6.068438257232236}. Best is trial 51 with value: 73840.04354122226.\n"
     ]
    },
    {
     "name": "stdout",
     "output_type": "stream",
     "text": [
      "Early stopping, best iteration is:\n",
      "[80]\tvalid_0's rmse: 73030.4\n",
      "Training until validation scores don't improve for 100 rounds\n",
      "Early stopping, best iteration is:\n",
      "[341]\tvalid_0's rmse: 74826.5\n",
      "Training until validation scores don't improve for 100 rounds\n",
      "Early stopping, best iteration is:\n",
      "[201]\tvalid_0's rmse: 73717.5\n",
      "Training until validation scores don't improve for 100 rounds\n"
     ]
    },
    {
     "name": "stderr",
     "output_type": "stream",
     "text": [
      "[I 2025-05-31 11:19:16,963] Trial 58 finished with value: 73853.58989614168 and parameters: {'num_leaves': 385, 'learning_rate': 0.021167472426350913, 'feature_fraction': 0.716248924887197, 'bagging_fraction': 0.771329123811187, 'bagging_freq': 8, 'min_child_samples': 178, 'reg_alpha': 2.924075560770505, 'reg_lambda': 7.614535658113085, 'max_depth': 7, 'min_split_gain': 6.7278260859978465}. Best is trial 51 with value: 73840.04354122226.\n"
     ]
    },
    {
     "name": "stdout",
     "output_type": "stream",
     "text": [
      "Early stopping, best iteration is:\n",
      "[276]\tvalid_0's rmse: 73016.8\n",
      "Training until validation scores don't improve for 100 rounds\n",
      "Early stopping, best iteration is:\n",
      "[261]\tvalid_0's rmse: 74817.5\n",
      "Training until validation scores don't improve for 100 rounds\n",
      "Early stopping, best iteration is:\n",
      "[180]\tvalid_0's rmse: 73733.4\n",
      "Training until validation scores don't improve for 100 rounds\n"
     ]
    },
    {
     "name": "stderr",
     "output_type": "stream",
     "text": [
      "[I 2025-05-31 11:19:55,212] Trial 59 finished with value: 73862.19838821205 and parameters: {'num_leaves': 385, 'learning_rate': 0.019367776284151032, 'feature_fraction': 0.7209870944282991, 'bagging_fraction': 0.7367237766669796, 'bagging_freq': 7, 'min_child_samples': 179, 'reg_alpha': 6.859587133539778, 'reg_lambda': 16.780541574987044, 'max_depth': 10, 'min_split_gain': 6.841366365332701}. Best is trial 51 with value: 73840.04354122226.\n"
     ]
    },
    {
     "name": "stdout",
     "output_type": "stream",
     "text": [
      "Early stopping, best iteration is:\n",
      "[249]\tvalid_0's rmse: 73035.8\n",
      "Training until validation scores don't improve for 100 rounds\n",
      "Early stopping, best iteration is:\n",
      "[96]\tvalid_0's rmse: 74776.9\n",
      "Training until validation scores don't improve for 100 rounds\n",
      "Early stopping, best iteration is:\n",
      "[64]\tvalid_0's rmse: 73757.8\n",
      "Training until validation scores don't improve for 100 rounds\n"
     ]
    },
    {
     "name": "stderr",
     "output_type": "stream",
     "text": [
      "[I 2025-05-31 11:19:59,009] Trial 60 finished with value: 73871.6992115159 and parameters: {'num_leaves': 478, 'learning_rate': 0.06414423396995278, 'feature_fraction': 0.7544367275156914, 'bagging_fraction': 0.7626073887880598, 'bagging_freq': 8, 'min_child_samples': 170, 'reg_alpha': 8.324510291109721, 'reg_lambda': 15.929707109785873, 'max_depth': 8, 'min_split_gain': 4.992984201732975}. Best is trial 51 with value: 73840.04354122226.\n"
     ]
    },
    {
     "name": "stdout",
     "output_type": "stream",
     "text": [
      "Early stopping, best iteration is:\n",
      "[78]\tvalid_0's rmse: 73080.4\n",
      "Training until validation scores don't improve for 100 rounds\n",
      "Early stopping, best iteration is:\n",
      "[110]\tvalid_0's rmse: 74842.4\n",
      "Training until validation scores don't improve for 100 rounds\n",
      "Early stopping, best iteration is:\n",
      "[87]\tvalid_0's rmse: 73724.9\n",
      "Training until validation scores don't improve for 100 rounds\n"
     ]
    },
    {
     "name": "stderr",
     "output_type": "stream",
     "text": [
      "[I 2025-05-31 11:20:02,632] Trial 61 finished with value: 73873.79862916355 and parameters: {'num_leaves': 375, 'learning_rate': 0.046162263971972865, 'feature_fraction': 0.6912672581425485, 'bagging_fraction': 0.8032519163633304, 'bagging_freq': 8, 'min_child_samples': 192, 'reg_alpha': 2.5874300850461758, 'reg_lambda': 7.082873404062885, 'max_depth': 7, 'min_split_gain': 6.458150180591494}. Best is trial 51 with value: 73840.04354122226.\n"
     ]
    },
    {
     "name": "stdout",
     "output_type": "stream",
     "text": [
      "Early stopping, best iteration is:\n",
      "[121]\tvalid_0's rmse: 73054.1\n",
      "Training until validation scores don't improve for 100 rounds\n",
      "Early stopping, best iteration is:\n",
      "[130]\tvalid_0's rmse: 74844.6\n",
      "Training until validation scores don't improve for 100 rounds\n",
      "Early stopping, best iteration is:\n",
      "[103]\tvalid_0's rmse: 73770.9\n",
      "Training until validation scores don't improve for 100 rounds\n"
     ]
    },
    {
     "name": "stderr",
     "output_type": "stream",
     "text": [
      "[I 2025-05-31 11:20:07,367] Trial 62 finished with value: 73891.73081660792 and parameters: {'num_leaves': 338, 'learning_rate': 0.03589152291162592, 'feature_fraction': 0.6155897503267347, 'bagging_fraction': 0.7727239088754003, 'bagging_freq': 10, 'min_child_samples': 157, 'reg_alpha': 0.842104472069471, 'reg_lambda': 8.404892914175097, 'max_depth': 7, 'min_split_gain': 8.799937654270751}. Best is trial 51 with value: 73840.04354122226.\n"
     ]
    },
    {
     "name": "stdout",
     "output_type": "stream",
     "text": [
      "Early stopping, best iteration is:\n",
      "[130]\tvalid_0's rmse: 73059.7\n",
      "Training until validation scores don't improve for 100 rounds\n",
      "Early stopping, best iteration is:\n",
      "[142]\tvalid_0's rmse: 74825.1\n",
      "Training until validation scores don't improve for 100 rounds\n",
      "Early stopping, best iteration is:\n",
      "[77]\tvalid_0's rmse: 73761.9\n",
      "Training until validation scores don't improve for 100 rounds\n"
     ]
    },
    {
     "name": "stderr",
     "output_type": "stream",
     "text": [
      "[I 2025-05-31 11:20:10,574] Trial 63 finished with value: 73878.43364996332 and parameters: {'num_leaves': 432, 'learning_rate': 0.05341302794029234, 'feature_fraction': 0.7054804397528042, 'bagging_fraction': 0.8006918667599827, 'bagging_freq': 7, 'min_child_samples': 185, 'reg_alpha': 6.161541580554127, 'reg_lambda': 10.755769736768247, 'max_depth': 6, 'min_split_gain': 7.7069370579775205}. Best is trial 51 with value: 73840.04354122226.\n"
     ]
    },
    {
     "name": "stdout",
     "output_type": "stream",
     "text": [
      "Early stopping, best iteration is:\n",
      "[90]\tvalid_0's rmse: 73048.4\n",
      "Training until validation scores don't improve for 100 rounds\n",
      "Early stopping, best iteration is:\n",
      "[258]\tvalid_0's rmse: 74817.5\n",
      "Training until validation scores don't improve for 100 rounds\n",
      "Early stopping, best iteration is:\n",
      "[205]\tvalid_0's rmse: 73722.8\n",
      "Training until validation scores don't improve for 100 rounds\n"
     ]
    },
    {
     "name": "stderr",
     "output_type": "stream",
     "text": [
      "[I 2025-05-31 11:20:16,335] Trial 64 finished with value: 73842.72608610026 and parameters: {'num_leaves': 356, 'learning_rate': 0.02013533843594262, 'feature_fraction': 0.6524512813686005, 'bagging_fraction': 0.7780468236619048, 'bagging_freq': 9, 'min_child_samples': 175, 'reg_alpha': 3.1111599518222217, 'reg_lambda': 6.259803110007496, 'max_depth': 8, 'min_split_gain': 6.976469117122799}. Best is trial 51 with value: 73840.04354122226.\n"
     ]
    },
    {
     "name": "stdout",
     "output_type": "stream",
     "text": [
      "Early stopping, best iteration is:\n",
      "[315]\tvalid_0's rmse: 72987.8\n",
      "Training until validation scores don't improve for 100 rounds\n",
      "Early stopping, best iteration is:\n",
      "[301]\tvalid_0's rmse: 74840.9\n",
      "Training until validation scores don't improve for 100 rounds\n",
      "Early stopping, best iteration is:\n",
      "[235]\tvalid_0's rmse: 73731.5\n",
      "Training until validation scores don't improve for 100 rounds\n"
     ]
    },
    {
     "name": "stderr",
     "output_type": "stream",
     "text": [
      "[I 2025-05-31 11:20:22,402] Trial 65 finished with value: 73857.09500824385 and parameters: {'num_leaves': 362, 'learning_rate': 0.020784326621815244, 'feature_fraction': 0.81018508094564, 'bagging_fraction': 0.7774572239707804, 'bagging_freq': 7, 'min_child_samples': 176, 'reg_alpha': 4.745645218386482, 'reg_lambda': 18.285138170315815, 'max_depth': 8, 'min_split_gain': 7.004368888954503}. Best is trial 51 with value: 73840.04354122226.\n"
     ]
    },
    {
     "name": "stdout",
     "output_type": "stream",
     "text": [
      "Early stopping, best iteration is:\n",
      "[271]\tvalid_0's rmse: 72998.9\n",
      "Training until validation scores don't improve for 100 rounds\n",
      "Early stopping, best iteration is:\n",
      "[484]\tvalid_0's rmse: 74812.5\n",
      "Training until validation scores don't improve for 100 rounds\n",
      "Early stopping, best iteration is:\n",
      "[358]\tvalid_0's rmse: 73708.4\n",
      "Training until validation scores don't improve for 100 rounds\n",
      "Early stopping, best iteration is:\n",
      "[622]\tvalid_0's rmse: 72992.9\n"
     ]
    },
    {
     "name": "stderr",
     "output_type": "stream",
     "text": [
      "[I 2025-05-31 11:20:31,665] Trial 66 finished with value: 73837.96641972834 and parameters: {'num_leaves': 386, 'learning_rate': 0.010856002172023644, 'feature_fraction': 0.6825280725628469, 'bagging_fraction': 0.7284467291111913, 'bagging_freq': 8, 'min_child_samples': 168, 'reg_alpha': 3.1413285789463488, 'reg_lambda': 5.8780662549321105, 'max_depth': 8, 'min_split_gain': 5.89214300182916}. Best is trial 66 with value: 73837.96641972834.\n"
     ]
    },
    {
     "name": "stdout",
     "output_type": "stream",
     "text": [
      "Training until validation scores don't improve for 100 rounds\n",
      "Early stopping, best iteration is:\n",
      "[344]\tvalid_0's rmse: 74888.4\n",
      "Training until validation scores don't improve for 100 rounds\n",
      "Early stopping, best iteration is:\n",
      "[281]\tvalid_0's rmse: 73786\n",
      "Training until validation scores don't improve for 100 rounds\n"
     ]
    },
    {
     "name": "stderr",
     "output_type": "stream",
     "text": [
      "[I 2025-05-31 11:20:39,249] Trial 67 finished with value: 73922.0519197038 and parameters: {'num_leaves': 396, 'learning_rate': 0.011253762317239784, 'feature_fraction': 0.6779557376020593, 'bagging_fraction': 0.6621205461494091, 'bagging_freq': 9, 'min_child_samples': 66, 'reg_alpha': 3.833745992684703, 'reg_lambda': 6.001705341957734, 'max_depth': 8, 'min_split_gain': 6.03884298980398}. Best is trial 66 with value: 73837.96641972834.\n"
     ]
    },
    {
     "name": "stdout",
     "output_type": "stream",
     "text": [
      "Early stopping, best iteration is:\n",
      "[378]\tvalid_0's rmse: 73091.8\n",
      "Training until validation scores don't improve for 100 rounds\n",
      "Early stopping, best iteration is:\n",
      "[118]\tvalid_0's rmse: 74835.5\n",
      "Training until validation scores don't improve for 100 rounds\n",
      "Early stopping, best iteration is:\n",
      "[149]\tvalid_0's rmse: 73750.2\n",
      "Training until validation scores don't improve for 100 rounds\n"
     ]
    },
    {
     "name": "stderr",
     "output_type": "stream",
     "text": [
      "[I 2025-05-31 11:20:43,520] Trial 68 finished with value: 73880.2217641726 and parameters: {'num_leaves': 350, 'learning_rate': 0.033120081791024075, 'feature_fraction': 0.6546080647956081, 'bagging_fraction': 0.682260215075475, 'bagging_freq': 8, 'min_child_samples': 147, 'reg_alpha': 9.080483564496806, 'reg_lambda': 14.642797284991946, 'max_depth': 9, 'min_split_gain': 8.002893874550322}. Best is trial 66 with value: 73837.96641972834.\n"
     ]
    },
    {
     "name": "stdout",
     "output_type": "stream",
     "text": [
      "Early stopping, best iteration is:\n",
      "[177]\tvalid_0's rmse: 73055\n",
      "Training until validation scores don't improve for 100 rounds\n",
      "Early stopping, best iteration is:\n",
      "[201]\tvalid_0's rmse: 74862.9\n",
      "Training until validation scores don't improve for 100 rounds\n",
      "Early stopping, best iteration is:\n",
      "[220]\tvalid_0's rmse: 73741.3\n",
      "Training until validation scores don't improve for 100 rounds\n",
      "Early stopping, best iteration is:\n",
      "[299]\tvalid_0's rmse: 73035.6\n"
     ]
    },
    {
     "name": "stderr",
     "output_type": "stream",
     "text": [
      "[I 2025-05-31 11:20:51,792] Trial 69 finished with value: 73879.91699635224 and parameters: {'num_leaves': 415, 'learning_rate': 0.01634435406010525, 'feature_fraction': 0.6271469604353478, 'bagging_fraction': 0.72882946971264, 'bagging_freq': 10, 'min_child_samples': 126, 'reg_alpha': 3.071654165978502, 'reg_lambda': 13.640051530882031, 'max_depth': 11, 'min_split_gain': 5.230636070595386}. Best is trial 66 with value: 73837.96641972834.\n"
     ]
    },
    {
     "name": "stdout",
     "output_type": "stream",
     "text": [
      "Training until validation scores don't improve for 100 rounds\n",
      "Early stopping, best iteration is:\n",
      "[30]\tvalid_0's rmse: 74891.1\n",
      "Training until validation scores don't improve for 100 rounds\n",
      "Early stopping, best iteration is:\n",
      "[29]\tvalid_0's rmse: 73829.1\n",
      "Training until validation scores don't improve for 100 rounds\n"
     ]
    },
    {
     "name": "stderr",
     "output_type": "stream",
     "text": [
      "[I 2025-05-31 11:20:54,364] Trial 70 finished with value: 73951.69923950982 and parameters: {'num_leaves': 328, 'learning_rate': 0.11143027281603353, 'feature_fraction': 0.6685441347916501, 'bagging_fraction': 0.6105243380466611, 'bagging_freq': 9, 'min_child_samples': 168, 'reg_alpha': 5.8584780522918205, 'reg_lambda': 5.082762570972677, 'max_depth': 12, 'min_split_gain': 5.85855942397107}. Best is trial 66 with value: 73837.96641972834.\n"
     ]
    },
    {
     "name": "stdout",
     "output_type": "stream",
     "text": [
      "Early stopping, best iteration is:\n",
      "[44]\tvalid_0's rmse: 73134.9\n",
      "Training until validation scores don't improve for 100 rounds\n",
      "Early stopping, best iteration is:\n",
      "[337]\tvalid_0's rmse: 74820.1\n",
      "Training until validation scores don't improve for 100 rounds\n",
      "Early stopping, best iteration is:\n",
      "[201]\tvalid_0's rmse: 73730.7\n",
      "Training until validation scores don't improve for 100 rounds\n"
     ]
    },
    {
     "name": "stderr",
     "output_type": "stream",
     "text": [
      "[I 2025-05-31 11:20:59,260] Trial 71 finished with value: 73853.42038374157 and parameters: {'num_leaves': 380, 'learning_rate': 0.02074360448427892, 'feature_fraction': 0.6863442455822378, 'bagging_fraction': 0.7530198601167339, 'bagging_freq': 8, 'min_child_samples': 191, 'reg_alpha': 2.842003971092277, 'reg_lambda': 6.295797800617818, 'max_depth': 7, 'min_split_gain': 6.659816452431946}. Best is trial 66 with value: 73837.96641972834.\n"
     ]
    },
    {
     "name": "stdout",
     "output_type": "stream",
     "text": [
      "Early stopping, best iteration is:\n",
      "[329]\tvalid_0's rmse: 73009.4\n",
      "Training until validation scores don't improve for 100 rounds\n",
      "Early stopping, best iteration is:\n",
      "[489]\tvalid_0's rmse: 74795.7\n",
      "Training until validation scores don't improve for 100 rounds\n",
      "Early stopping, best iteration is:\n",
      "[393]\tvalid_0's rmse: 73706.2\n",
      "Training until validation scores don't improve for 100 rounds\n",
      "Early stopping, best iteration is:\n",
      "[466]\tvalid_0's rmse: 72993.8\n"
     ]
    },
    {
     "name": "stderr",
     "output_type": "stream",
     "text": [
      "[I 2025-05-31 11:21:07,673] Trial 72 finished with value: 73831.88672420561 and parameters: {'num_leaves': 403, 'learning_rate': 0.010207244346730912, 'feature_fraction': 0.682420026352462, 'bagging_fraction': 0.7097300159161973, 'bagging_freq': 8, 'min_child_samples': 192, 'reg_alpha': 1.711919753246828, 'reg_lambda': 6.036732986068603, 'max_depth': 8, 'min_split_gain': 7.020385068244367}. Best is trial 72 with value: 73831.88672420561.\n"
     ]
    },
    {
     "name": "stdout",
     "output_type": "stream",
     "text": [
      "Training until validation scores don't improve for 100 rounds\n",
      "Early stopping, best iteration is:\n",
      "[33]\tvalid_0's rmse: 74860.5\n",
      "Training until validation scores don't improve for 100 rounds\n",
      "Early stopping, best iteration is:\n",
      "[24]\tvalid_0's rmse: 73804.8\n",
      "Training until validation scores don't improve for 100 rounds\n"
     ]
    },
    {
     "name": "stderr",
     "output_type": "stream",
     "text": [
      "[I 2025-05-31 11:21:09,712] Trial 73 finished with value: 73903.59131882245 and parameters: {'num_leaves': 427, 'learning_rate': 0.13233402009416467, 'feature_fraction': 0.6592599759401474, 'bagging_fraction': 0.6915841174072279, 'bagging_freq': 9, 'min_child_samples': 183, 'reg_alpha': 1.9052514245311014, 'reg_lambda': 5.988532760542967, 'max_depth': 9, 'min_split_gain': 6.451391173696267}. Best is trial 72 with value: 73831.88672420561.\n"
     ]
    },
    {
     "name": "stdout",
     "output_type": "stream",
     "text": [
      "Early stopping, best iteration is:\n",
      "[37]\tvalid_0's rmse: 73045.5\n",
      "Training until validation scores don't improve for 100 rounds\n",
      "Early stopping, best iteration is:\n",
      "[450]\tvalid_0's rmse: 74817.6\n",
      "Training until validation scores don't improve for 100 rounds\n",
      "Early stopping, best iteration is:\n",
      "[363]\tvalid_0's rmse: 73698.2\n",
      "Training until validation scores don't improve for 100 rounds\n",
      "Early stopping, best iteration is:\n",
      "[602]\tvalid_0's rmse: 73006.7\n"
     ]
    },
    {
     "name": "stderr",
     "output_type": "stream",
     "text": [
      "[I 2025-05-31 11:21:19,056] Trial 74 finished with value: 73840.8813565555 and parameters: {'num_leaves': 357, 'learning_rate': 0.011202628786452923, 'feature_fraction': 0.6871480540557525, 'bagging_fraction': 0.7486506572770919, 'bagging_freq': 7, 'min_child_samples': 189, 'reg_alpha': 0.9052719441127071, 'reg_lambda': 6.377383940052713, 'max_depth': 8, 'min_split_gain': 7.0668260967964045}. Best is trial 72 with value: 73831.88672420561.\n"
     ]
    },
    {
     "name": "stdout",
     "output_type": "stream",
     "text": [
      "Training until validation scores don't improve for 100 rounds\n",
      "Early stopping, best iteration is:\n",
      "[395]\tvalid_0's rmse: 74812.1\n",
      "Training until validation scores don't improve for 100 rounds\n",
      "Early stopping, best iteration is:\n",
      "[329]\tvalid_0's rmse: 73716.4\n",
      "Training until validation scores don't improve for 100 rounds\n",
      "Early stopping, best iteration is:\n",
      "[574]\tvalid_0's rmse: 73007.7\n"
     ]
    },
    {
     "name": "stderr",
     "output_type": "stream",
     "text": [
      "[I 2025-05-31 11:21:32,650] Trial 75 finished with value: 73845.39881693074 and parameters: {'num_leaves': 363, 'learning_rate': 0.010215945142094866, 'feature_fraction': 0.6483351281980367, 'bagging_fraction': 0.7158001083510759, 'bagging_freq': 7, 'min_child_samples': 195, 'reg_alpha': 1.2265976957975115, 'reg_lambda': 6.670730264998587, 'max_depth': 10, 'min_split_gain': 7.147916402113259}. Best is trial 72 with value: 73831.88672420561.\n"
     ]
    },
    {
     "name": "stdout",
     "output_type": "stream",
     "text": [
      "Training until validation scores don't improve for 100 rounds\n",
      "Early stopping, best iteration is:\n",
      "[369]\tvalid_0's rmse: 74801.7\n",
      "Training until validation scores don't improve for 100 rounds\n",
      "Early stopping, best iteration is:\n",
      "[298]\tvalid_0's rmse: 73718.7\n",
      "Training until validation scores don't improve for 100 rounds\n",
      "Early stopping, best iteration is:\n",
      "[515]\tvalid_0's rmse: 73013.2\n"
     ]
    },
    {
     "name": "stderr",
     "output_type": "stream",
     "text": [
      "[I 2025-05-31 11:21:44,458] Trial 76 finished with value: 73844.54986272396 and parameters: {'num_leaves': 365, 'learning_rate': 0.010948091691728709, 'feature_fraction': 0.6789110788496107, 'bagging_fraction': 0.7161004211598507, 'bagging_freq': 6, 'min_child_samples': 196, 'reg_alpha': 0.9218306952523987, 'reg_lambda': 5.624799370120525, 'max_depth': 10, 'min_split_gain': 7.144094192203788}. Best is trial 72 with value: 73831.88672420561.\n"
     ]
    },
    {
     "name": "stdout",
     "output_type": "stream",
     "text": [
      "Training until validation scores don't improve for 100 rounds\n",
      "Early stopping, best iteration is:\n",
      "[338]\tvalid_0's rmse: 74804.1\n",
      "Training until validation scores don't improve for 100 rounds\n",
      "Early stopping, best iteration is:\n",
      "[301]\tvalid_0's rmse: 73718.7\n",
      "Training until validation scores don't improve for 100 rounds\n",
      "Early stopping, best iteration is:\n",
      "[469]\tvalid_0's rmse: 72996.7\n"
     ]
    },
    {
     "name": "stderr",
     "output_type": "stream",
     "text": [
      "[I 2025-05-31 11:21:55,760] Trial 77 finished with value: 73839.83486621072 and parameters: {'num_leaves': 357, 'learning_rate': 0.012243308379297678, 'feature_fraction': 0.7382229971485454, 'bagging_fraction': 0.7144399651711608, 'bagging_freq': 6, 'min_child_samples': 196, 'reg_alpha': 0.7481989849073055, 'reg_lambda': 6.708125627472265, 'max_depth': 10, 'min_split_gain': 7.6327099939116705}. Best is trial 72 with value: 73831.88672420561.\n"
     ]
    },
    {
     "name": "stdout",
     "output_type": "stream",
     "text": [
      "Training until validation scores don't improve for 100 rounds\n",
      "Early stopping, best iteration is:\n",
      "[349]\tvalid_0's rmse: 74814\n",
      "Training until validation scores don't improve for 100 rounds\n",
      "Early stopping, best iteration is:\n",
      "[301]\tvalid_0's rmse: 73729.9\n",
      "Training until validation scores don't improve for 100 rounds\n",
      "Early stopping, best iteration is:\n",
      "[510]\tvalid_0's rmse: 73009.9\n"
     ]
    },
    {
     "name": "stderr",
     "output_type": "stream",
     "text": [
      "[I 2025-05-31 11:22:05,915] Trial 78 finished with value: 73851.27120837312 and parameters: {'num_leaves': 360, 'learning_rate': 0.0115277516235208, 'feature_fraction': 0.7044411692023914, 'bagging_fraction': 0.7195053103491733, 'bagging_freq': 6, 'min_child_samples': 195, 'reg_alpha': 1.0617779726976306, 'reg_lambda': 5.3093846813311725, 'max_depth': 10, 'min_split_gain': 6.163362218833293}. Best is trial 72 with value: 73831.88672420561.\n"
     ]
    },
    {
     "name": "stdout",
     "output_type": "stream",
     "text": [
      "Training until validation scores don't improve for 100 rounds\n",
      "Early stopping, best iteration is:\n",
      "[142]\tvalid_0's rmse: 75277.8\n",
      "Training until validation scores don't improve for 100 rounds\n",
      "Early stopping, best iteration is:\n",
      "[136]\tvalid_0's rmse: 73991.6\n",
      "Training until validation scores don't improve for 100 rounds\n"
     ]
    },
    {
     "name": "stderr",
     "output_type": "stream",
     "text": [
      "[I 2025-05-31 11:22:15,260] Trial 79 finished with value: 74246.59392288764 and parameters: {'num_leaves': 400, 'learning_rate': 0.015846597067293768, 'feature_fraction': 0.7226544408239176, 'bagging_fraction': 0.7039420608011838, 'bagging_freq': 6, 'min_child_samples': 12, 'reg_alpha': 0.8375136202513845, 'reg_lambda': 6.699697233572106, 'max_depth': 12, 'min_split_gain': 7.18477494858328}. Best is trial 72 with value: 73831.88672420561.\n"
     ]
    },
    {
     "name": "stdout",
     "output_type": "stream",
     "text": [
      "Early stopping, best iteration is:\n",
      "[138]\tvalid_0's rmse: 73470.4\n",
      "Training until validation scores don't improve for 100 rounds\n",
      "Early stopping, best iteration is:\n",
      "[500]\tvalid_0's rmse: 74813\n",
      "Training until validation scores don't improve for 100 rounds\n",
      "Early stopping, best iteration is:\n",
      "[406]\tvalid_0's rmse: 73712.3\n",
      "Training until validation scores don't improve for 100 rounds\n",
      "Early stopping, best iteration is:\n",
      "[456]\tvalid_0's rmse: 72985.1\n"
     ]
    },
    {
     "name": "stderr",
     "output_type": "stream",
     "text": [
      "[I 2025-05-31 11:22:29,193] Trial 80 finished with value: 73836.8011315564 and parameters: {'num_leaves': 346, 'learning_rate': 0.010612930932555642, 'feature_fraction': 0.7356631986206615, 'bagging_fraction': 0.6412412615522327, 'bagging_freq': 5, 'min_child_samples': 185, 'reg_alpha': 1.601453967273744, 'reg_lambda': 2.5646684193067992, 'max_depth': 11, 'min_split_gain': 8.262874664989017}. Best is trial 72 with value: 73831.88672420561.\n"
     ]
    },
    {
     "name": "stdout",
     "output_type": "stream",
     "text": [
      "Training until validation scores don't improve for 100 rounds\n",
      "Early stopping, best iteration is:\n",
      "[331]\tvalid_0's rmse: 74830.7\n",
      "Training until validation scores don't improve for 100 rounds\n",
      "Early stopping, best iteration is:\n",
      "[347]\tvalid_0's rmse: 73724.4\n",
      "Training until validation scores don't improve for 100 rounds\n",
      "Early stopping, best iteration is:\n",
      "[454]\tvalid_0's rmse: 72993.9\n"
     ]
    },
    {
     "name": "stderr",
     "output_type": "stream",
     "text": [
      "[I 2025-05-31 11:22:39,694] Trial 81 finished with value: 73849.67664559571 and parameters: {'num_leaves': 345, 'learning_rate': 0.010972422244444186, 'feature_fraction': 0.7415124074728292, 'bagging_fraction': 0.6425276800866293, 'bagging_freq': 5, 'min_child_samples': 185, 'reg_alpha': 1.5041938088295335, 'reg_lambda': 2.5427462814025716, 'max_depth': 11, 'min_split_gain': 8.570954132952474}. Best is trial 72 with value: 73831.88672420561.\n"
     ]
    },
    {
     "name": "stdout",
     "output_type": "stream",
     "text": [
      "Training until validation scores don't improve for 100 rounds\n",
      "Early stopping, best iteration is:\n",
      "[246]\tvalid_0's rmse: 74827.4\n",
      "Training until validation scores don't improve for 100 rounds\n",
      "Early stopping, best iteration is:\n",
      "[198]\tvalid_0's rmse: 73726.7\n",
      "Training until validation scores don't improve for 100 rounds\n"
     ]
    },
    {
     "name": "stderr",
     "output_type": "stream",
     "text": [
      "[I 2025-05-31 11:22:45,799] Trial 82 finished with value: 73855.08370684386 and parameters: {'num_leaves': 361, 'learning_rate': 0.016990885527441015, 'feature_fraction': 0.7274619325657462, 'bagging_fraction': 0.715517473014841, 'bagging_freq': 6, 'min_child_samples': 194, 'reg_alpha': 2.068744104673486, 'reg_lambda': 6.571035993853728, 'max_depth': 10, 'min_split_gain': 7.582921038192357}. Best is trial 72 with value: 73831.88672420561.\n"
     ]
    },
    {
     "name": "stdout",
     "output_type": "stream",
     "text": [
      "Early stopping, best iteration is:\n",
      "[241]\tvalid_0's rmse: 73011.2\n",
      "Training until validation scores don't improve for 100 rounds\n",
      "Early stopping, best iteration is:\n",
      "[498]\tvalid_0's rmse: 74806.3\n",
      "Training until validation scores don't improve for 100 rounds\n",
      "Early stopping, best iteration is:\n",
      "[331]\tvalid_0's rmse: 73719.4\n",
      "Training until validation scores don't improve for 100 rounds\n",
      "Early stopping, best iteration is:\n",
      "[518]\tvalid_0's rmse: 72983.1\n"
     ]
    },
    {
     "name": "stderr",
     "output_type": "stream",
     "text": [
      "[I 2025-05-31 11:22:56,191] Trial 83 finished with value: 73836.24265159613 and parameters: {'num_leaves': 325, 'learning_rate': 0.010162167592140538, 'feature_fraction': 0.7732385459809599, 'bagging_fraction': 0.6885664032334262, 'bagging_freq': 6, 'min_child_samples': 187, 'reg_alpha': 0.7920957106195803, 'reg_lambda': 8.579960669508326, 'max_depth': 10, 'min_split_gain': 8.251823635014901}. Best is trial 72 with value: 73831.88672420561.\n"
     ]
    },
    {
     "name": "stdout",
     "output_type": "stream",
     "text": [
      "Training until validation scores don't improve for 100 rounds\n",
      "Early stopping, best iteration is:\n",
      "[197]\tvalid_0's rmse: 74816.4\n",
      "Training until validation scores don't improve for 100 rounds\n",
      "Early stopping, best iteration is:\n",
      "[162]\tvalid_0's rmse: 73725.9\n",
      "Training until validation scores don't improve for 100 rounds\n"
     ]
    },
    {
     "name": "stderr",
     "output_type": "stream",
     "text": [
      "[I 2025-05-31 11:23:01,294] Trial 84 finished with value: 73846.45839879058 and parameters: {'num_leaves': 320, 'learning_rate': 0.02438783496911793, 'feature_fraction': 0.7676689755710456, 'bagging_fraction': 0.6932622948336625, 'bagging_freq': 5, 'min_child_samples': 187, 'reg_alpha': 0.6096635558265165, 'reg_lambda': 9.184360377069172, 'max_depth': 10, 'min_split_gain': 8.256108092162846}. Best is trial 72 with value: 73831.88672420561.\n"
     ]
    },
    {
     "name": "stdout",
     "output_type": "stream",
     "text": [
      "Early stopping, best iteration is:\n",
      "[204]\tvalid_0's rmse: 72997\n",
      "Training until validation scores don't improve for 100 rounds\n",
      "Early stopping, best iteration is:\n",
      "[245]\tvalid_0's rmse: 74814.6\n",
      "Training until validation scores don't improve for 100 rounds\n",
      "Early stopping, best iteration is:\n",
      "[228]\tvalid_0's rmse: 73718.7\n",
      "Training until validation scores don't improve for 100 rounds\n"
     ]
    },
    {
     "name": "stderr",
     "output_type": "stream",
     "text": [
      "[I 2025-05-31 11:23:08,140] Trial 85 finished with value: 73846.9709247311 and parameters: {'num_leaves': 338, 'learning_rate': 0.01704140424203525, 'feature_fraction': 0.7942832981936246, 'bagging_fraction': 0.6734956445460438, 'bagging_freq': 6, 'min_child_samples': 176, 'reg_alpha': 3.4774418779767338, 'reg_lambda': 8.36299944010687, 'max_depth': 11, 'min_split_gain': 8.088801926934373}. Best is trial 72 with value: 73831.88672420561.\n"
     ]
    },
    {
     "name": "stdout",
     "output_type": "stream",
     "text": [
      "Early stopping, best iteration is:\n",
      "[245]\tvalid_0's rmse: 73007.6\n",
      "Training until validation scores don't improve for 100 rounds\n",
      "Early stopping, best iteration is:\n",
      "[195]\tvalid_0's rmse: 74797.7\n",
      "Training until validation scores don't improve for 100 rounds\n",
      "Early stopping, best iteration is:\n",
      "[160]\tvalid_0's rmse: 73707.3\n",
      "Training until validation scores don't improve for 100 rounds\n"
     ]
    },
    {
     "name": "stderr",
     "output_type": "stream",
     "text": [
      "[I 2025-05-31 11:23:13,121] Trial 86 finished with value: 73837.78037606127 and parameters: {'num_leaves': 399, 'learning_rate': 0.023524451996750968, 'feature_fraction': 0.7560237720097503, 'bagging_fraction': 0.6587324516496408, 'bagging_freq': 5, 'min_child_samples': 182, 'reg_alpha': 1.811899294586186, 'reg_lambda': 4.682176690343923, 'max_depth': 9, 'min_split_gain': 8.755082890474085}. Best is trial 72 with value: 73831.88672420561.\n"
     ]
    },
    {
     "name": "stdout",
     "output_type": "stream",
     "text": [
      "Early stopping, best iteration is:\n",
      "[204]\tvalid_0's rmse: 73008.3\n",
      "Training until validation scores don't improve for 100 rounds\n",
      "Early stopping, best iteration is:\n",
      "[195]\tvalid_0's rmse: 74812.7\n",
      "Training until validation scores don't improve for 100 rounds\n",
      "Early stopping, best iteration is:\n",
      "[222]\tvalid_0's rmse: 73722\n",
      "Training until validation scores don't improve for 100 rounds\n"
     ]
    },
    {
     "name": "stderr",
     "output_type": "stream",
     "text": [
      "[I 2025-05-31 11:23:18,406] Trial 87 finished with value: 73852.6309428694 and parameters: {'num_leaves': 403, 'learning_rate': 0.024436435921885824, 'feature_fraction': 0.760702328171068, 'bagging_fraction': 0.6446871612764695, 'bagging_freq': 5, 'min_child_samples': 183, 'reg_alpha': 1.7419392117738204, 'reg_lambda': 4.707372866262718, 'max_depth': 9, 'min_split_gain': 8.779990378382696}. Best is trial 72 with value: 73831.88672420561.\n"
     ]
    },
    {
     "name": "stdout",
     "output_type": "stream",
     "text": [
      "Early stopping, best iteration is:\n",
      "[200]\tvalid_0's rmse: 73023.2\n",
      "Training until validation scores don't improve for 100 rounds\n",
      "Early stopping, best iteration is:\n",
      "[14]\tvalid_0's rmse: 74955\n",
      "Training until validation scores don't improve for 100 rounds\n",
      "Early stopping, best iteration is:\n",
      "[14]\tvalid_0's rmse: 73889.4\n",
      "Training until validation scores don't improve for 100 rounds\n"
     ]
    },
    {
     "name": "stderr",
     "output_type": "stream",
     "text": [
      "[I 2025-05-31 11:23:20,494] Trial 88 finished with value: 74016.12489129255 and parameters: {'num_leaves': 414, 'learning_rate': 0.19534108055856847, 'feature_fraction': 0.7743653757037087, 'bagging_fraction': 0.618812430228788, 'bagging_freq': 4, 'min_child_samples': 189, 'reg_alpha': 2.293530508647412, 'reg_lambda': 4.01488300691321, 'max_depth': 9, 'min_split_gain': 9.180727724229595}. Best is trial 72 with value: 73831.88672420561.\n"
     ]
    },
    {
     "name": "stdout",
     "output_type": "stream",
     "text": [
      "Early stopping, best iteration is:\n",
      "[16]\tvalid_0's rmse: 73203.9\n",
      "Training until validation scores don't improve for 100 rounds\n",
      "Early stopping, best iteration is:\n",
      "[195]\tvalid_0's rmse: 74805.9\n",
      "Training until validation scores don't improve for 100 rounds\n",
      "Early stopping, best iteration is:\n",
      "[130]\tvalid_0's rmse: 73713.5\n",
      "Training until validation scores don't improve for 100 rounds\n"
     ]
    },
    {
     "name": "stderr",
     "output_type": "stream",
     "text": [
      "[I 2025-05-31 11:23:25,844] Trial 89 finished with value: 73840.62893248156 and parameters: {'num_leaves': 444, 'learning_rate': 0.02775682055547475, 'feature_fraction': 0.7501123136287635, 'bagging_fraction': 0.6624164778993001, 'bagging_freq': 5, 'min_child_samples': 175, 'reg_alpha': 2.626170016654616, 'reg_lambda': 1.8272691109540853, 'max_depth': 8, 'min_split_gain': 9.498081613747836}. Best is trial 72 with value: 73831.88672420561.\n"
     ]
    },
    {
     "name": "stdout",
     "output_type": "stream",
     "text": [
      "Early stopping, best iteration is:\n",
      "[210]\tvalid_0's rmse: 73002.5\n",
      "Training until validation scores don't improve for 100 rounds\n",
      "Early stopping, best iteration is:\n",
      "[200]\tvalid_0's rmse: 74802.8\n",
      "Training until validation scores don't improve for 100 rounds\n",
      "Early stopping, best iteration is:\n",
      "[130]\tvalid_0's rmse: 73729.3\n",
      "Training until validation scores don't improve for 100 rounds\n"
     ]
    },
    {
     "name": "stderr",
     "output_type": "stream",
     "text": [
      "[I 2025-05-31 11:23:30,765] Trial 90 finished with value: 73858.83240595127 and parameters: {'num_leaves': 490, 'learning_rate': 0.026913554810014766, 'feature_fraction': 0.7807957862421291, 'bagging_fraction': 0.6627394829333116, 'bagging_freq': 5, 'min_child_samples': 166, 'reg_alpha': 2.3333105255717737, 'reg_lambda': 7.79280732224552, 'max_depth': 9, 'min_split_gain': 9.440482637092058}. Best is trial 72 with value: 73831.88672420561.\n"
     ]
    },
    {
     "name": "stdout",
     "output_type": "stream",
     "text": [
      "Early stopping, best iteration is:\n",
      "[188]\tvalid_0's rmse: 73044.3\n",
      "Training until validation scores don't improve for 100 rounds\n",
      "Early stopping, best iteration is:\n",
      "[329]\tvalid_0's rmse: 74827.9\n",
      "Training until validation scores don't improve for 100 rounds\n",
      "Early stopping, best iteration is:\n",
      "[244]\tvalid_0's rmse: 73715.4\n",
      "Training until validation scores don't improve for 100 rounds\n"
     ]
    },
    {
     "name": "stderr",
     "output_type": "stream",
     "text": [
      "[I 2025-05-31 11:23:36,263] Trial 91 finished with value: 73858.4316535167 and parameters: {'num_leaves': 447, 'learning_rate': 0.017340751296593824, 'feature_fraction': 0.7502592818877323, 'bagging_fraction': 0.6815862722132469, 'bagging_freq': 5, 'min_child_samples': 180, 'reg_alpha': 4.00452877836362, 'reg_lambda': 1.4735736557984236, 'max_depth': 8, 'min_split_gain': 9.78093226585589}. Best is trial 72 with value: 73831.88672420561.\n"
     ]
    },
    {
     "name": "stdout",
     "output_type": "stream",
     "text": [
      "Early stopping, best iteration is:\n",
      "[231]\tvalid_0's rmse: 73032\n",
      "Training until validation scores don't improve for 100 rounds\n",
      "Early stopping, best iteration is:\n",
      "[194]\tvalid_0's rmse: 74817.4\n",
      "Training until validation scores don't improve for 100 rounds\n",
      "Early stopping, best iteration is:\n",
      "[160]\tvalid_0's rmse: 73733.7\n",
      "Training until validation scores don't improve for 100 rounds\n"
     ]
    },
    {
     "name": "stderr",
     "output_type": "stream",
     "text": [
      "[I 2025-05-31 11:23:42,839] Trial 92 finished with value: 73856.11319707167 and parameters: {'num_leaves': 349, 'learning_rate': 0.021090061842807473, 'feature_fraction': 0.7345311139477549, 'bagging_fraction': 0.6461740754679018, 'bagging_freq': 5, 'min_child_samples': 175, 'reg_alpha': 1.5865394395060672, 'reg_lambda': 2.193187438654299, 'max_depth': 12, 'min_split_gain': 8.989019155948238}. Best is trial 72 with value: 73831.88672420561.\n"
     ]
    },
    {
     "name": "stdout",
     "output_type": "stream",
     "text": [
      "Early stopping, best iteration is:\n",
      "[191]\tvalid_0's rmse: 73017.2\n",
      "Training until validation scores don't improve for 100 rounds\n",
      "Early stopping, best iteration is:\n",
      "[160]\tvalid_0's rmse: 74807.9\n",
      "Training until validation scores don't improve for 100 rounds\n",
      "Early stopping, best iteration is:\n",
      "[124]\tvalid_0's rmse: 73731.7\n",
      "Training until validation scores don't improve for 100 rounds\n"
     ]
    },
    {
     "name": "stderr",
     "output_type": "stream",
     "text": [
      "[I 2025-05-31 11:23:46,607] Trial 93 finished with value: 73858.20530130238 and parameters: {'num_leaves': 423, 'learning_rate': 0.029645271837730986, 'feature_fraction': 0.7550698455613882, 'bagging_fraction': 0.731492847161772, 'bagging_freq': 4, 'min_child_samples': 200, 'reg_alpha': 3.1864269134696372, 'reg_lambda': 3.632103807776187, 'max_depth': 8, 'min_split_gain': 7.906428633552876}. Best is trial 72 with value: 73831.88672420561.\n"
     ]
    },
    {
     "name": "stdout",
     "output_type": "stream",
     "text": [
      "Early stopping, best iteration is:\n",
      "[137]\tvalid_0's rmse: 73035\n",
      "Training until validation scores don't improve for 100 rounds\n",
      "Early stopping, best iteration is:\n",
      "[371]\tvalid_0's rmse: 74825\n",
      "Training until validation scores don't improve for 100 rounds\n",
      "Early stopping, best iteration is:\n",
      "[270]\tvalid_0's rmse: 73735.4\n",
      "Training until validation scores don't improve for 100 rounds\n",
      "Early stopping, best iteration is:\n",
      "[516]\tvalid_0's rmse: 73000.4\n"
     ]
    },
    {
     "name": "stderr",
     "output_type": "stream",
     "text": [
      "[I 2025-05-31 11:23:54,062] Trial 94 finished with value: 73853.60748602512 and parameters: {'num_leaves': 445, 'learning_rate': 0.014712156562854354, 'feature_fraction': 0.8137252725764363, 'bagging_fraction': 0.690458585404067, 'bagging_freq': 6, 'min_child_samples': 188, 'reg_alpha': 0.5365965324572404, 'reg_lambda': 3.170055540728567, 'max_depth': 8, 'min_split_gain': 9.697274532051368}. Best is trial 72 with value: 73831.88672420561.\n"
     ]
    },
    {
     "name": "stdout",
     "output_type": "stream",
     "text": [
      "Training until validation scores don't improve for 100 rounds\n",
      "Early stopping, best iteration is:\n",
      "[202]\tvalid_0's rmse: 74835.9\n",
      "Training until validation scores don't improve for 100 rounds\n",
      "Early stopping, best iteration is:\n",
      "[151]\tvalid_0's rmse: 73755.6\n",
      "Training until validation scores don't improve for 100 rounds\n"
     ]
    },
    {
     "name": "stderr",
     "output_type": "stream",
     "text": [
      "[I 2025-05-31 11:24:00,611] Trial 95 finished with value: 73882.09162167464 and parameters: {'num_leaves': 394, 'learning_rate': 0.02261393810612389, 'feature_fraction': 0.7434861109482767, 'bagging_fraction': 0.6331397188385048, 'bagging_freq': 7, 'min_child_samples': 157, 'reg_alpha': 2.5958734373916488, 'reg_lambda': 5.579814408427935, 'max_depth': 11, 'min_split_gain': 8.458834965394615}. Best is trial 72 with value: 73831.88672420561.\n"
     ]
    },
    {
     "name": "stdout",
     "output_type": "stream",
     "text": [
      "Early stopping, best iteration is:\n",
      "[267]\tvalid_0's rmse: 73054.7\n",
      "Training until validation scores don't improve for 100 rounds\n",
      "Early stopping, best iteration is:\n",
      "[19]\tvalid_0's rmse: 74868.5\n",
      "Training until validation scores don't improve for 100 rounds\n",
      "Early stopping, best iteration is:\n",
      "[20]\tvalid_0's rmse: 73822\n",
      "Training until validation scores don't improve for 100 rounds\n"
     ]
    },
    {
     "name": "stderr",
     "output_type": "stream",
     "text": [
      "[I 2025-05-31 11:24:02,369] Trial 96 finished with value: 73938.42648511786 and parameters: {'num_leaves': 312, 'learning_rate': 0.17313816825821876, 'feature_fraction': 0.709087991996213, 'bagging_fraction': 0.655626432048134, 'bagging_freq': 4, 'min_child_samples': 174, 'reg_alpha': 4.860426785308558, 'reg_lambda': 2.818315772053196, 'max_depth': 9, 'min_split_gain': 8.734926884835849}. Best is trial 72 with value: 73831.88672420561.\n"
     ]
    },
    {
     "name": "stdout",
     "output_type": "stream",
     "text": [
      "Early stopping, best iteration is:\n",
      "[25]\tvalid_0's rmse: 73124.7\n",
      "Training until validation scores don't improve for 100 rounds\n",
      "Early stopping, best iteration is:\n",
      "[99]\tvalid_0's rmse: 74822.9\n",
      "Training until validation scores don't improve for 100 rounds\n",
      "Early stopping, best iteration is:\n",
      "[98]\tvalid_0's rmse: 73759.8\n",
      "Training until validation scores don't improve for 100 rounds\n"
     ]
    },
    {
     "name": "stderr",
     "output_type": "stream",
     "text": [
      "[I 2025-05-31 11:24:06,517] Trial 97 finished with value: 73887.16521105323 and parameters: {'num_leaves': 329, 'learning_rate': 0.03990928711645393, 'feature_fraction': 0.785104462710844, 'bagging_fraction': 0.7506664914320911, 'bagging_freq': 5, 'min_child_samples': 181, 'reg_alpha': 1.4394439013523077, 'reg_lambda': 1.6518564571517254, 'max_depth': 10, 'min_split_gain': 9.515460714033543}. Best is trial 72 with value: 73831.88672420561.\n"
     ]
    },
    {
     "name": "stdout",
     "output_type": "stream",
     "text": [
      "Early stopping, best iteration is:\n",
      "[114]\tvalid_0's rmse: 73078.8\n",
      "Training until validation scores don't improve for 100 rounds\n",
      "Early stopping, best iteration is:\n",
      "[259]\tvalid_0's rmse: 74823.7\n",
      "Training until validation scores don't improve for 100 rounds\n",
      "Early stopping, best iteration is:\n",
      "[257]\tvalid_0's rmse: 73726.9\n",
      "Training until validation scores don't improve for 100 rounds\n",
      "Early stopping, best iteration is:\n",
      "[342]\tvalid_0's rmse: 73029.7\n"
     ]
    },
    {
     "name": "stderr",
     "output_type": "stream",
     "text": [
      "[I 2025-05-31 11:24:13,845] Trial 98 finished with value: 73860.06944363087 and parameters: {'num_leaves': 376, 'learning_rate': 0.014292187254636053, 'feature_fraction': 0.732628507347585, 'bagging_fraction': 0.7426978087810651, 'bagging_freq': 6, 'min_child_samples': 168, 'reg_alpha': 1.9693655347061243, 'reg_lambda': 1.029983508873814, 'max_depth': 9, 'min_split_gain': 8.355650876264525}. Best is trial 72 with value: 73831.88672420561.\n"
     ]
    },
    {
     "name": "stdout",
     "output_type": "stream",
     "text": [
      "Training until validation scores don't improve for 100 rounds\n",
      "Early stopping, best iteration is:\n",
      "[295]\tvalid_0's rmse: 74810.7\n",
      "Training until validation scores don't improve for 100 rounds\n",
      "Early stopping, best iteration is:\n",
      "[183]\tvalid_0's rmse: 73761.9\n",
      "Training until validation scores don't improve for 100 rounds\n"
     ]
    },
    {
     "name": "stderr",
     "output_type": "stream",
     "text": [
      "[I 2025-05-31 11:24:18,266] Trial 99 finished with value: 73877.26943644659 and parameters: {'num_leaves': 437, 'learning_rate': 0.02767300855206974, 'feature_fraction': 0.7726082784089833, 'bagging_fraction': 0.6667108192691783, 'bagging_freq': 7, 'min_child_samples': 186, 'reg_alpha': 3.5014717999676144, 'reg_lambda': 7.458482493918028, 'max_depth': 8, 'min_split_gain': 7.565500069471457}. Best is trial 72 with value: 73831.88672420561.\n"
     ]
    },
    {
     "name": "stdout",
     "output_type": "stream",
     "text": [
      "Early stopping, best iteration is:\n",
      "[159]\tvalid_0's rmse: 73059.2\n",
      "\n",
      "Best CV RMSE: 73831.89\n",
      "Best parameters:\n",
      "  num_leaves: 403\n",
      "  learning_rate: 0.010207244346730912\n",
      "  feature_fraction: 0.682420026352462\n",
      "  bagging_fraction: 0.7097300159161973\n",
      "  bagging_freq: 8\n",
      "  min_child_samples: 192\n",
      "  reg_alpha: 1.711919753246828\n",
      "  reg_lambda: 6.036732986068603\n",
      "  max_depth: 8\n",
      "  min_split_gain: 7.020385068244367\n"
     ]
    }
   ],
   "source": [
    "print(\"\\nStarting advanced hyperparameter optimization...\")\n",
    "study = optuna.create_study(direction='minimize')\n",
    "study.optimize(objective, n_trials=100)  # More trials for better optimization\n",
    "\n",
    "print(f\"\\nBest CV RMSE: {study.best_value:.2f}\")\n",
    "print(\"Best parameters:\")\n",
    "for key, value in study.best_params.items():\n",
    "    print(f\"  {key}: {value}\")"
   ]
  },
  {
   "cell_type": "markdown",
   "metadata": {},
   "source": [
    "## Final Model Training"
   ]
  },
  {
   "cell_type": "code",
   "execution_count": 10,
   "metadata": {},
   "outputs": [
    {
     "name": "stdout",
     "output_type": "stream",
     "text": [
      "\n",
      "Training final model with 5-fold CV...\n",
      "Training fold 1...\n",
      "Training until validation scores don't improve for 150 rounds\n",
      "Early stopping, best iteration is:\n",
      "[423]\tvalid_0's rmse: 69930.6\n",
      "Training fold 2...\n",
      "Training until validation scores don't improve for 150 rounds\n",
      "Early stopping, best iteration is:\n",
      "[494]\tvalid_0's rmse: 78708.5\n",
      "Training fold 3...\n",
      "Training until validation scores don't improve for 150 rounds\n",
      "Early stopping, best iteration is:\n",
      "[507]\tvalid_0's rmse: 77464.4\n",
      "Training fold 4...\n",
      "Training until validation scores don't improve for 150 rounds\n",
      "Early stopping, best iteration is:\n",
      "[630]\tvalid_0's rmse: 68799.5\n",
      "Training fold 5...\n",
      "Training until validation scores don't improve for 150 rounds\n",
      "Early stopping, best iteration is:\n",
      "[440]\tvalid_0's rmse: 73979.2\n"
     ]
    }
   ],
   "source": [
    "# Train final model with 5-fold CV\n",
    "print(\"\\nTraining final model with 5-fold CV...\")\n",
    "best_params = study.best_params\n",
    "best_params.update({\n",
    "    'objective': 'regression',\n",
    "    'metric': 'rmse',\n",
    "    'boosting_type': 'gbdt',\n",
    "    'random_state': 42,\n",
    "    'verbosity': -1,\n",
    "    'force_col_wise': True\n",
    "})\n",
    "\n",
    "kf = KFold(n_splits=5, shuffle=True, random_state=42)\n",
    "oof_preds = np.zeros(len(X_train_selected))\n",
    "test_preds = np.zeros(len(X_test_selected))\n",
    "\n",
    "for fold, (train_idx, val_idx) in enumerate(kf.split(X_train_selected)):\n",
    "    print(f\"Training fold {fold + 1}...\")\n",
    "    X_tr, X_val = X_train_selected.iloc[train_idx], X_train_selected.iloc[val_idx]\n",
    "    y_tr, y_val = y_train.iloc[train_idx], y_train.iloc[val_idx]\n",
    "    \n",
    "    train_data = lgb.Dataset(X_tr, label=y_tr)\n",
    "    val_data = lgb.Dataset(X_val, label=y_val, reference=train_data)\n",
    "    \n",
    "    model = lgb.train(\n",
    "        best_params,\n",
    "        train_data,\n",
    "        valid_sets=[val_data],\n",
    "        num_boost_round=2000,\n",
    "        callbacks=[lgb.early_stopping(150), lgb.log_evaluation(0)]\n",
    "    )\n",
    "    \n",
    "    oof_preds[val_idx] = model.predict(X_val, num_iteration=model.best_iteration)\n",
    "    test_preds += model.predict(X_test_selected, num_iteration=model.best_iteration) / kf.n_splits"
   ]
  },
  {
   "cell_type": "markdown",
   "metadata": {},
   "source": [
    "## Post-processing ve Submission"
   ]
  },
  {
   "cell_type": "code",
   "execution_count": 11,
   "metadata": {},
   "outputs": [
    {
     "name": "stdout",
     "output_type": "stream",
     "text": [
      "\n",
      "Final CV RMSE: 73881.43\n",
      "\n",
      "Final optimized submission saved!\n",
      "Predicted prices range: 8602.21 - 266081.33\n",
      "Mean predicted price: 44124.64\n",
      "\n",
      "Selected features: ['year', 'km', 'horsepower', 'engine_liter', 'age', 'power_to_weight', 'age_km_interaction', 'engine_power_ratio', 'year_squared', 'km_log', 'hp_per_year', 'age_hp_ratio', 'km_per_year', 'engine_efficiency', 'depreciation_factor', 'mileage_penalty', 'luxury_premium', 'age_group', 'km_group', 'hp_group', 'brand_target_encoded', 'color_ext_target_encoded', 'color_int_target_encoded', 'accident_encoded', 'clean_title_encoded']\n"
     ]
    }
   ],
   "source": [
    "# Post-processing\n",
    "test_preds = np.maximum(test_preds, 1000)  # Minimum price\n",
    "\n",
    "final_rmse = np.sqrt(mean_squared_error(y_train, oof_preds))\n",
    "print(f\"\\nFinal CV RMSE: {final_rmse:.2f}\")\n",
    "\n",
    "# Create submission\n",
    "submission = pd.DataFrame({\n",
    "    'id': test['id'],\n",
    "    'price': test_preds\n",
    "})\n",
    "\n",
    "submission.to_csv('final_optimized_submission.csv', index=False)\n",
    "print(f\"\\nFinal optimized submission saved!\")\n",
    "print(f\"Predicted prices range: {test_preds.min():.2f} - {test_preds.max():.2f}\")\n",
    "print(f\"Mean predicted price: {test_preds.mean():.2f}\")\n",
    "\n",
    "print(f\"\\nSelected features: {selected_features}\")"
   ]
  },
  {
   "cell_type": "markdown",
   "metadata": {},
   "source": [
    "## Sonuçları Görüntüleme"
   ]
  },
  {
   "cell_type": "code",
   "execution_count": 12,
   "metadata": {},
   "outputs": [
    {
     "name": "stdout",
     "output_type": "stream",
     "text": [
      "\n",
      "Submission preview:\n",
      "   id          price\n",
      "0   0    9631.083364\n",
      "1   6   28054.572409\n",
      "2  11   27406.609086\n",
      "3  12   33130.645254\n",
      "4  20  129015.759903\n",
      "5  22   12763.897270\n",
      "6  31   63698.759571\n",
      "7  33   13033.640464\n",
      "8  34   43853.538367\n",
      "9  35   19824.126868\n",
      "\n",
      "Submission statistics:\n",
      "count     37707.000000\n",
      "mean      44124.643377\n",
      "std       30195.467545\n",
      "min        8602.208957\n",
      "25%       20702.248696\n",
      "50%       37499.181618\n",
      "75%       59203.539184\n",
      "max      266081.331151\n",
      "Name: price, dtype: float64\n"
     ]
    }
   ],
   "source": [
    "# Display submission preview\n",
    "print(\"\\nSubmission preview:\")\n",
    "print(submission.head(10))\n",
    "\n",
    "print(f\"\\nSubmission statistics:\")\n",
    "print(submission['price'].describe())"
   ]
  }
 ],
 "metadata": {
  "kernelspec": {
   "display_name": "datathon",
   "language": "python",
   "name": "python3"
  },
  "language_info": {
   "codemirror_mode": {
    "name": "ipython",
    "version": 3
   },
   "file_extension": ".py",
   "mimetype": "text/x-python",
   "name": "python",
   "nbconvert_exporter": "python",
   "pygments_lexer": "ipython3",
   "version": "3.13.2"
  }
 },
 "nbformat": 4,
 "nbformat_minor": 4
}
