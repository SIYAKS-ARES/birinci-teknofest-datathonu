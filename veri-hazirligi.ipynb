{
 "cells": [
  {
   "cell_type": "code",
   "execution_count": 1,
   "id": "1bcad64a",
   "metadata": {},
   "outputs": [],
   "source": [
    "import pandas as pd\n",
    "from sklearn.model_selection import train_test_split\n",
    "import numpy as np\n",
    "import os"
   ]
  },
  {
   "cell_type": "code",
   "execution_count": 2,
   "id": "7bfcbeb8",
   "metadata": {},
   "outputs": [
    {
     "name": "stdout",
     "output_type": "stream",
     "text": [
      "(188533, 13)\n"
     ]
    },
    {
     "data": {
      "text/html": [
       "<div>\n",
       "<style scoped>\n",
       "    .dataframe tbody tr th:only-of-type {\n",
       "        vertical-align: middle;\n",
       "    }\n",
       "\n",
       "    .dataframe tbody tr th {\n",
       "        vertical-align: top;\n",
       "    }\n",
       "\n",
       "    .dataframe thead th {\n",
       "        text-align: right;\n",
       "    }\n",
       "</style>\n",
       "<table border=\"1\" class=\"dataframe\">\n",
       "  <thead>\n",
       "    <tr style=\"text-align: right;\">\n",
       "      <th></th>\n",
       "      <th>id</th>\n",
       "      <th>brand</th>\n",
       "      <th>model</th>\n",
       "      <th>model_year</th>\n",
       "      <th>milage</th>\n",
       "      <th>fuel_type</th>\n",
       "      <th>engine</th>\n",
       "      <th>transmission</th>\n",
       "      <th>ext_col</th>\n",
       "      <th>int_col</th>\n",
       "      <th>accident</th>\n",
       "      <th>clean_title</th>\n",
       "      <th>price</th>\n",
       "    </tr>\n",
       "  </thead>\n",
       "  <tbody>\n",
       "    <tr>\n",
       "      <th>0</th>\n",
       "      <td>0</td>\n",
       "      <td>MINI</td>\n",
       "      <td>Cooper S Base</td>\n",
       "      <td>2007</td>\n",
       "      <td>213000</td>\n",
       "      <td>Gasoline</td>\n",
       "      <td>172.0HP 1.6L 4 Cylinder Engine Gasoline Fuel</td>\n",
       "      <td>A/T</td>\n",
       "      <td>Yellow</td>\n",
       "      <td>Gray</td>\n",
       "      <td>None reported</td>\n",
       "      <td>Yes</td>\n",
       "      <td>4200</td>\n",
       "    </tr>\n",
       "    <tr>\n",
       "      <th>1</th>\n",
       "      <td>1</td>\n",
       "      <td>Lincoln</td>\n",
       "      <td>LS V8</td>\n",
       "      <td>2002</td>\n",
       "      <td>143250</td>\n",
       "      <td>Gasoline</td>\n",
       "      <td>252.0HP 3.9L 8 Cylinder Engine Gasoline Fuel</td>\n",
       "      <td>A/T</td>\n",
       "      <td>Silver</td>\n",
       "      <td>Beige</td>\n",
       "      <td>At least 1 accident or damage reported</td>\n",
       "      <td>Yes</td>\n",
       "      <td>4999</td>\n",
       "    </tr>\n",
       "    <tr>\n",
       "      <th>2</th>\n",
       "      <td>2</td>\n",
       "      <td>Chevrolet</td>\n",
       "      <td>Silverado 2500 LT</td>\n",
       "      <td>2002</td>\n",
       "      <td>136731</td>\n",
       "      <td>E85 Flex Fuel</td>\n",
       "      <td>320.0HP 5.3L 8 Cylinder Engine Flex Fuel Capab...</td>\n",
       "      <td>A/T</td>\n",
       "      <td>Blue</td>\n",
       "      <td>Gray</td>\n",
       "      <td>None reported</td>\n",
       "      <td>Yes</td>\n",
       "      <td>13900</td>\n",
       "    </tr>\n",
       "    <tr>\n",
       "      <th>3</th>\n",
       "      <td>3</td>\n",
       "      <td>Genesis</td>\n",
       "      <td>G90 5.0 Ultimate</td>\n",
       "      <td>2017</td>\n",
       "      <td>19500</td>\n",
       "      <td>Gasoline</td>\n",
       "      <td>420.0HP 5.0L 8 Cylinder Engine Gasoline Fuel</td>\n",
       "      <td>Transmission w/Dual Shift Mode</td>\n",
       "      <td>Black</td>\n",
       "      <td>Black</td>\n",
       "      <td>None reported</td>\n",
       "      <td>Yes</td>\n",
       "      <td>45000</td>\n",
       "    </tr>\n",
       "    <tr>\n",
       "      <th>4</th>\n",
       "      <td>4</td>\n",
       "      <td>Mercedes-Benz</td>\n",
       "      <td>Metris Base</td>\n",
       "      <td>2021</td>\n",
       "      <td>7388</td>\n",
       "      <td>Gasoline</td>\n",
       "      <td>208.0HP 2.0L 4 Cylinder Engine Gasoline Fuel</td>\n",
       "      <td>7-Speed A/T</td>\n",
       "      <td>Black</td>\n",
       "      <td>Beige</td>\n",
       "      <td>None reported</td>\n",
       "      <td>Yes</td>\n",
       "      <td>97500</td>\n",
       "    </tr>\n",
       "  </tbody>\n",
       "</table>\n",
       "</div>"
      ],
      "text/plain": [
       "   id          brand              model  model_year  milage      fuel_type  \\\n",
       "0   0           MINI      Cooper S Base        2007  213000       Gasoline   \n",
       "1   1        Lincoln              LS V8        2002  143250       Gasoline   \n",
       "2   2      Chevrolet  Silverado 2500 LT        2002  136731  E85 Flex Fuel   \n",
       "3   3        Genesis   G90 5.0 Ultimate        2017   19500       Gasoline   \n",
       "4   4  Mercedes-Benz        Metris Base        2021    7388       Gasoline   \n",
       "\n",
       "                                              engine  \\\n",
       "0       172.0HP 1.6L 4 Cylinder Engine Gasoline Fuel   \n",
       "1       252.0HP 3.9L 8 Cylinder Engine Gasoline Fuel   \n",
       "2  320.0HP 5.3L 8 Cylinder Engine Flex Fuel Capab...   \n",
       "3       420.0HP 5.0L 8 Cylinder Engine Gasoline Fuel   \n",
       "4       208.0HP 2.0L 4 Cylinder Engine Gasoline Fuel   \n",
       "\n",
       "                     transmission ext_col int_col  \\\n",
       "0                             A/T  Yellow    Gray   \n",
       "1                             A/T  Silver   Beige   \n",
       "2                             A/T    Blue    Gray   \n",
       "3  Transmission w/Dual Shift Mode   Black   Black   \n",
       "4                     7-Speed A/T   Black   Beige   \n",
       "\n",
       "                                 accident clean_title  price  \n",
       "0                           None reported         Yes   4200  \n",
       "1  At least 1 accident or damage reported         Yes   4999  \n",
       "2                           None reported         Yes  13900  \n",
       "3                           None reported         Yes  45000  \n",
       "4                           None reported         Yes  97500  "
      ]
     },
     "execution_count": 2,
     "metadata": {},
     "output_type": "execute_result"
    }
   ],
   "source": [
    "df = pd.read_csv(\"train.csv\")\n",
    "print(df.shape)\n",
    "df.head()"
   ]
  },
  {
   "cell_type": "code",
   "execution_count": 3,
   "id": "298de90d",
   "metadata": {},
   "outputs": [],
   "source": [
    "# Rastgele karıştır ve split et\n",
    "train_df, test_df = train_test_split(df, test_size=0.2, random_state=42)\n",
    "\n",
    "# İd'yi koru\n",
    "train_df = train_df.sort_values(by='id').reset_index(drop=True)\n",
    "test_df = test_df.sort_values(by='id').reset_index(drop=True)\n"
   ]
  },
  {
   "cell_type": "code",
   "execution_count": 4,
   "id": "67b63688",
   "metadata": {},
   "outputs": [],
   "source": [
    "import re\n",
    "\n",
    "def extract_hp(val):\n",
    "    if isinstance(val, str):\n",
    "        match = re.search(r\"(\\d+\\.?\\d*)HP\", val)\n",
    "        return float(match.group(1)) if match else np.nan\n",
    "    return np.nan\n",
    "\n",
    "def extract_liter(val):\n",
    "    if isinstance(val, str):\n",
    "        match = re.search(r\"(\\d+\\.?\\d*)L\", val)\n",
    "        return float(match.group(1)) if match else np.nan\n",
    "    return np.nan\n",
    "\n",
    "for df_ in [train_df, test_df]:\n",
    "    df_[\"horsepower\"] = df_[\"engine\"].apply(extract_hp)\n",
    "    df_[\"engine_liter\"] = df_[\"engine\"].apply(extract_liter)\n"
   ]
  },
  {
   "cell_type": "code",
   "execution_count": 5,
   "id": "3f7a6bb1",
   "metadata": {},
   "outputs": [],
   "source": [
    "for df_ in [train_df, test_df]:\n",
    "    df_[\"age\"] = 2025 - df_[\"model_year\"]\n"
   ]
  },
  {
   "cell_type": "code",
   "execution_count": 6,
   "id": "42117951",
   "metadata": {},
   "outputs": [],
   "source": [
    "rename_cols = {\n",
    "    \"model_year\": \"year\",\n",
    "    \"milage\": \"km\",\n",
    "    \"ext_col\": \"color_ext\",\n",
    "    \"int_col\": \"color_int\"\n",
    "}\n",
    "\n",
    "train_df.rename(columns=rename_cols, inplace=True)\n",
    "test_df.rename(columns=rename_cols, inplace=True)\n"
   ]
  },
  {
   "cell_type": "code",
   "execution_count": 7,
   "id": "cd0596b9",
   "metadata": {},
   "outputs": [],
   "source": [
    "drop_cols = [\"engine\"]  # motor metni artık gerekli değil, numeriklerine ayırdık\n",
    "train_df.drop(columns=drop_cols, inplace=True)\n",
    "test_df.drop(columns=drop_cols, inplace=True)\n"
   ]
  },
  {
   "cell_type": "code",
   "execution_count": 8,
   "id": "4f9008eb",
   "metadata": {},
   "outputs": [],
   "source": [
    "solution_df = test_df[[\"id\", \"price\"]].copy()\n",
    "test_df.drop(columns=[\"price\"], inplace=True)\n"
   ]
  },
  {
   "cell_type": "code",
   "execution_count": null,
   "id": "9ec13b88",
   "metadata": {},
   "outputs": [],
   "source": [
    "sample_submission = test_df[[\"id\"]].copy()\n",
    "sample_submission[\"price\"] = 0  # veya örnek olarak train ortalaması\n",
    "\n",
    "\n",
    "'''sample_submission.to_csv(\"sample_submission.csv\", index=False)\n",
    "train_df.to_csv(\"train_processed.csv\", index=False)\n",
    "test_df.to_csv(\"test_processed.csv\", index=False)\n",
    "solution_df.to_csv(\"solution.csv\", index=False)\n",
    "print(\"Train and test datasets processed and saved.\")\n",
    "print(\"Sample submission created.\")\n",
    "print(\"Solution file created.\")\n",
    "print(\"Processed train shape:\", train_df.shape)\n",
    "print(\"Processed test shape:\", test_df.shape)\n",
    "print(\"Sample submission shape:\", sample_submission.shape)\n",
    "print(\"Solution shape:\", solution_df.shape)\n",
    "print(\"Data processing complete.\")'''\n"
   ]
  },
  {
   "cell_type": "code",
   "execution_count": 10,
   "id": "3b95e558",
   "metadata": {},
   "outputs": [
    {
     "name": "stdout",
     "output_type": "stream",
     "text": [
      "Data preparation completed and files saved in: competition_files\n"
     ]
    }
   ],
   "source": [
    "output_dir = \"competition_files\"\n",
    "os.makedirs(output_dir, exist_ok=True)\n",
    "\n",
    "train_df.to_csv(f\"{output_dir}/train_new.csv\", index=False)\n",
    "test_df.to_csv(f\"{output_dir}/test_new.csv\", index=False)\n",
    "solution_df.to_csv(f\"{output_dir}/solution.csv\", index=False)\n",
    "sample_submission.to_csv(f\"{output_dir}/sample_submission.csv\", index=False)\n",
    "print(\"Data preparation completed and files saved in:\", output_dir)"
   ]
  },
  {
   "cell_type": "code",
   "execution_count": 14,
   "id": "d57d8121",
   "metadata": {},
   "outputs": [
    {
     "data": {
      "text/plain": [
       "'from sklearn.metrics import root_mean_square\\n\\n\\n# test verisinde gerçek ve örnek prediction\\ny_true = solution_df[\"price\"]\\ny_pred = sample_submission[\"price\"]\\n\\ndef root_mean_squared_error(y_true, y_pred):\\n    return np.sqrt(root_mean_squared_error(y_true, y_pred))\\n# Eğer y_true ve y_pred tanımlıysa, RMSE hesapla\\nif \\'y_true\\' in locals() and \\'y_pred\\' in locals():\\n    rmse = root_mean_squared_error(y_true, y_pred)\\n    print(f\"Sample RMSE: {rmse:.2f}\")\\n# RMSE hesaplamak için gerekli fonksiyon\\n\\n# y_true ve y_pred tanımlıysa:\\nrmse = root_mean_squared_error(y_true, y_pred)\\nprint(f\"Sample RMSE: {rmse:.2f}\")\\n\\n# Örnek RMSE hesaplandı, ancak gerçek test verisi ile karşılaştırma yapılmadı.\\n# Bu kod, verilerin hazırlanması ve örnek submission dosyalarının oluşturulması için kullanılır.\\n# Gerçek test verisi ile karşılaştırma yapmak için gerçek fiyatları içeren bir test setine ihtiyaç vardır.\\n# Bu kod, verilerin hazırlanması ve örnek submission dosyalarının oluşturulması için kullanılır.\\n# Gerçek test verisi ile karşılaştırma yapmak için gerçek fiyatları içeren bir test setine ihtiyaç vardır.\\n# Bu kod, verilerin hazırlanması ve örnek submission dosyalarının oluşturulması için kullanılır.\\n# Gerçek test verisi ile karşılaştırma yapmak için gerçek fiyatları içeren bir test setine ihtiyaç vardır.\\n# Bu kod, verilerin hazırlanması ve örnek submission dosyalarının oluşturulması için kullanılır.'"
      ]
     },
     "execution_count": 14,
     "metadata": {},
     "output_type": "execute_result"
    }
   ],
   "source": [
    "'''from sklearn.metrics import root_mean_square\n",
    "\n",
    "\n",
    "# test verisinde gerçek ve örnek prediction\n",
    "y_true = solution_df[\"price\"]\n",
    "y_pred = sample_submission[\"price\"]\n",
    "\n",
    "def root_mean_squared_error(y_true, y_pred):\n",
    "    return np.sqrt(root_mean_squared_error(y_true, y_pred))\n",
    "# Eğer y_true ve y_pred tanımlıysa, RMSE hesapla\n",
    "if 'y_true' in locals() and 'y_pred' in locals():\n",
    "    rmse = root_mean_squared_error(y_true, y_pred)\n",
    "    print(f\"Sample RMSE: {rmse:.2f}\")\n",
    "# RMSE hesaplamak için gerekli fonksiyon\n",
    "\n",
    "# y_true ve y_pred tanımlıysa:\n",
    "rmse = root_mean_squared_error(y_true, y_pred)\n",
    "print(f\"Sample RMSE: {rmse:.2f}\")\n",
    "\n",
    "# Örnek RMSE hesaplandı, ancak gerçek test verisi ile karşılaştırma yapılmadı.\n",
    "# Bu kod, verilerin hazırlanması ve örnek submission dosyalarının oluşturulması için kullanılır.\n",
    "# Gerçek test verisi ile karşılaştırma yapmak için gerçek fiyatları içeren bir test setine ihtiyaç vardır.\n",
    "# Bu kod, verilerin hazırlanması ve örnek submission dosyalarının oluşturulması için kullanılır.\n",
    "# Gerçek test verisi ile karşılaştırma yapmak için gerçek fiyatları içeren bir test setine ihtiyaç vardır.\n",
    "# Bu kod, verilerin hazırlanması ve örnek submission dosyalarının oluşturulması için kullanılır.\n",
    "# Gerçek test verisi ile karşılaştırma yapmak için gerçek fiyatları içeren bir test setine ihtiyaç vardır.\n",
    "# Bu kod, verilerin hazırlanması ve örnek submission dosyalarının oluşturulması için kullanılır.'''"
   ]
  },
  {
   "cell_type": "code",
   "execution_count": 16,
   "id": "fb960212",
   "metadata": {},
   "outputs": [
    {
     "name": "stdout",
     "output_type": "stream",
     "text": [
      "Sample RMSE: 86498.19\n"
     ]
    }
   ],
   "source": [
    "from sklearn.metrics import root_mean_squared_error\n",
    "\n",
    "y_true = solution_df[\"price\"]\n",
    "y_pred = sample_submission[\"price\"]\n",
    "\n",
    "rmse = root_mean_squared_error(y_true, y_pred)\n",
    "print(f\"Sample RMSE: {rmse:.2f}\")\n",
    "# RMSE hesaplandı, ancak gerçek test verisi ile karşılaştırma yapılmadı."
   ]
  }
 ],
 "metadata": {
  "kernelspec": {
   "display_name": "datathon",
   "language": "python",
   "name": "python3"
  },
  "language_info": {
   "codemirror_mode": {
    "name": "ipython",
    "version": 3
   },
   "file_extension": ".py",
   "mimetype": "text/x-python",
   "name": "python",
   "nbconvert_exporter": "python",
   "pygments_lexer": "ipython3",
   "version": "3.13.2"
  }
 },
 "nbformat": 4,
 "nbformat_minor": 5
}
